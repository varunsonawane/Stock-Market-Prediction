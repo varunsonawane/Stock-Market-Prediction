{
 "cells": [
  {
   "cell_type": "code",
   "execution_count": 1,
   "id": "38818a18",
   "metadata": {},
   "outputs": [],
   "source": [
    "import pandas as pd\n",
    "\n",
    "df = pd.read_csv(\"GOOGLE.csv\")"
   ]
  },
  {
   "cell_type": "code",
   "execution_count": 2,
   "id": "4cbedd21",
   "metadata": {},
   "outputs": [
    {
     "data": {
      "text/html": [
       "<div>\n",
       "<style scoped>\n",
       "    .dataframe tbody tr th:only-of-type {\n",
       "        vertical-align: middle;\n",
       "    }\n",
       "\n",
       "    .dataframe tbody tr th {\n",
       "        vertical-align: top;\n",
       "    }\n",
       "\n",
       "    .dataframe thead th {\n",
       "        text-align: right;\n",
       "    }\n",
       "</style>\n",
       "<table border=\"1\" class=\"dataframe\">\n",
       "  <thead>\n",
       "    <tr style=\"text-align: right;\">\n",
       "      <th></th>\n",
       "      <th>Date</th>\n",
       "      <th>Open</th>\n",
       "      <th>High</th>\n",
       "      <th>Low</th>\n",
       "      <th>Close</th>\n",
       "      <th>Adj Close</th>\n",
       "      <th>Volume</th>\n",
       "    </tr>\n",
       "  </thead>\n",
       "  <tbody>\n",
       "    <tr>\n",
       "      <th>0</th>\n",
       "      <td>02-01-2019</td>\n",
       "      <td>50.828499</td>\n",
       "      <td>52.616001</td>\n",
       "      <td>50.785500</td>\n",
       "      <td>52.292500</td>\n",
       "      <td>52.292500</td>\n",
       "      <td>30652000</td>\n",
       "    </tr>\n",
       "    <tr>\n",
       "      <th>1</th>\n",
       "      <td>03-01-2019</td>\n",
       "      <td>52.049999</td>\n",
       "      <td>52.848999</td>\n",
       "      <td>50.703499</td>\n",
       "      <td>50.803001</td>\n",
       "      <td>50.803001</td>\n",
       "      <td>36822000</td>\n",
       "    </tr>\n",
       "    <tr>\n",
       "      <th>2</th>\n",
       "      <td>04-01-2019</td>\n",
       "      <td>51.629501</td>\n",
       "      <td>53.542000</td>\n",
       "      <td>51.370899</td>\n",
       "      <td>53.535500</td>\n",
       "      <td>53.535500</td>\n",
       "      <td>41878000</td>\n",
       "    </tr>\n",
       "    <tr>\n",
       "      <th>3</th>\n",
       "      <td>07-01-2019</td>\n",
       "      <td>53.575001</td>\n",
       "      <td>53.700001</td>\n",
       "      <td>52.737999</td>\n",
       "      <td>53.419498</td>\n",
       "      <td>53.419498</td>\n",
       "      <td>39638000</td>\n",
       "    </tr>\n",
       "    <tr>\n",
       "      <th>4</th>\n",
       "      <td>08-01-2019</td>\n",
       "      <td>53.805500</td>\n",
       "      <td>54.228001</td>\n",
       "      <td>53.026501</td>\n",
       "      <td>53.813999</td>\n",
       "      <td>53.813999</td>\n",
       "      <td>35298000</td>\n",
       "    </tr>\n",
       "  </tbody>\n",
       "</table>\n",
       "</div>"
      ],
      "text/plain": [
       "         Date       Open       High        Low      Close  Adj Close    Volume\n",
       "0  02-01-2019  50.828499  52.616001  50.785500  52.292500  52.292500  30652000\n",
       "1  03-01-2019  52.049999  52.848999  50.703499  50.803001  50.803001  36822000\n",
       "2  04-01-2019  51.629501  53.542000  51.370899  53.535500  53.535500  41878000\n",
       "3  07-01-2019  53.575001  53.700001  52.737999  53.419498  53.419498  39638000\n",
       "4  08-01-2019  53.805500  54.228001  53.026501  53.813999  53.813999  35298000"
      ]
     },
     "execution_count": 2,
     "metadata": {},
     "output_type": "execute_result"
    }
   ],
   "source": [
    "df.head()"
   ]
  },
  {
   "cell_type": "code",
   "execution_count": 3,
   "id": "a4d579b7",
   "metadata": {},
   "outputs": [],
   "source": [
    "df.set_index(\"Date\", inplace=True)"
   ]
  },
  {
   "cell_type": "code",
   "execution_count": 4,
   "id": "1ba6e73e",
   "metadata": {},
   "outputs": [
    {
     "data": {
      "image/png": "[encoded data removed]",
      "text/plain": [
       "<Figure size 432x288 with 1 Axes>"
      ]
     },
     "metadata": {
      "needs_background": "light"
     },
     "output_type": "display_data"
    }
   ],
   "source": [
    "import matplotlib.pyplot as plt\n",
    "plt.xticks([])\n",
    "plt.plot(df.Close);"
   ]
  },
  {
   "cell_type": "code",
   "execution_count": 5,
   "id": "e1b2d8ee",
   "metadata": {},
   "outputs": [
    {
     "data": {
      "text/html": [
       "<div>\n",
       "<style scoped>\n",
       "    .dataframe tbody tr th:only-of-type {\n",
       "        vertical-align: middle;\n",
       "    }\n",
       "\n",
       "    .dataframe tbody tr th {\n",
       "        vertical-align: top;\n",
       "    }\n",
       "\n",
       "    .dataframe thead th {\n",
       "        text-align: right;\n",
       "    }\n",
       "</style>\n",
       "<table border=\"1\" class=\"dataframe\">\n",
       "  <thead>\n",
       "    <tr style=\"text-align: right;\">\n",
       "      <th></th>\n",
       "      <th>Open</th>\n",
       "      <th>High</th>\n",
       "      <th>Low</th>\n",
       "      <th>Close</th>\n",
       "      <th>Adj Close</th>\n",
       "      <th>Volume</th>\n",
       "      <th>Tomorrow</th>\n",
       "    </tr>\n",
       "    <tr>\n",
       "      <th>Date</th>\n",
       "      <th></th>\n",
       "      <th></th>\n",
       "      <th></th>\n",
       "      <th></th>\n",
       "      <th></th>\n",
       "      <th></th>\n",
       "      <th></th>\n",
       "    </tr>\n",
       "  </thead>\n",
       "  <tbody>\n",
       "    <tr>\n",
       "      <th>02-01-2019</th>\n",
       "      <td>50.828499</td>\n",
       "      <td>52.616001</td>\n",
       "      <td>50.785500</td>\n",
       "      <td>52.292500</td>\n",
       "      <td>52.292500</td>\n",
       "      <td>30652000</td>\n",
       "      <td>50.803001</td>\n",
       "    </tr>\n",
       "    <tr>\n",
       "      <th>03-01-2019</th>\n",
       "      <td>52.049999</td>\n",
       "      <td>52.848999</td>\n",
       "      <td>50.703499</td>\n",
       "      <td>50.803001</td>\n",
       "      <td>50.803001</td>\n",
       "      <td>36822000</td>\n",
       "      <td>53.535500</td>\n",
       "    </tr>\n",
       "    <tr>\n",
       "      <th>04-01-2019</th>\n",
       "      <td>51.629501</td>\n",
       "      <td>53.542000</td>\n",
       "      <td>51.370899</td>\n",
       "      <td>53.535500</td>\n",
       "      <td>53.535500</td>\n",
       "      <td>41878000</td>\n",
       "      <td>53.419498</td>\n",
       "    </tr>\n",
       "    <tr>\n",
       "      <th>07-01-2019</th>\n",
       "      <td>53.575001</td>\n",
       "      <td>53.700001</td>\n",
       "      <td>52.737999</td>\n",
       "      <td>53.419498</td>\n",
       "      <td>53.419498</td>\n",
       "      <td>39638000</td>\n",
       "      <td>53.813999</td>\n",
       "    </tr>\n",
       "    <tr>\n",
       "      <th>08-01-2019</th>\n",
       "      <td>53.805500</td>\n",
       "      <td>54.228001</td>\n",
       "      <td>53.026501</td>\n",
       "      <td>53.813999</td>\n",
       "      <td>53.813999</td>\n",
       "      <td>35298000</td>\n",
       "      <td>53.733002</td>\n",
       "    </tr>\n",
       "    <tr>\n",
       "      <th>...</th>\n",
       "      <td>...</td>\n",
       "      <td>...</td>\n",
       "      <td>...</td>\n",
       "      <td>...</td>\n",
       "      <td>...</td>\n",
       "      <td>...</td>\n",
       "      <td>...</td>\n",
       "    </tr>\n",
       "    <tr>\n",
       "      <th>15-02-2023</th>\n",
       "      <td>94.739998</td>\n",
       "      <td>97.339996</td>\n",
       "      <td>94.360001</td>\n",
       "      <td>97.099998</td>\n",
       "      <td>97.099998</td>\n",
       "      <td>37029900</td>\n",
       "      <td>95.779999</td>\n",
       "    </tr>\n",
       "    <tr>\n",
       "      <th>16-02-2023</th>\n",
       "      <td>95.540001</td>\n",
       "      <td>97.879997</td>\n",
       "      <td>94.970001</td>\n",
       "      <td>95.779999</td>\n",
       "      <td>95.779999</td>\n",
       "      <td>35642100</td>\n",
       "      <td>94.589996</td>\n",
       "    </tr>\n",
       "    <tr>\n",
       "      <th>17-02-2023</th>\n",
       "      <td>95.070000</td>\n",
       "      <td>95.750000</td>\n",
       "      <td>93.449997</td>\n",
       "      <td>94.589996</td>\n",
       "      <td>94.589996</td>\n",
       "      <td>31074100</td>\n",
       "      <td>92.050003</td>\n",
       "    </tr>\n",
       "    <tr>\n",
       "      <th>21-02-2023</th>\n",
       "      <td>93.239998</td>\n",
       "      <td>93.415001</td>\n",
       "      <td>92.000000</td>\n",
       "      <td>92.050003</td>\n",
       "      <td>92.050003</td>\n",
       "      <td>28367200</td>\n",
       "      <td>91.800003</td>\n",
       "    </tr>\n",
       "    <tr>\n",
       "      <th>22-02-2023</th>\n",
       "      <td>91.933998</td>\n",
       "      <td>92.360001</td>\n",
       "      <td>90.870003</td>\n",
       "      <td>91.800003</td>\n",
       "      <td>91.800003</td>\n",
       "      <td>29858500</td>\n",
       "      <td>NaN</td>\n",
       "    </tr>\n",
       "  </tbody>\n",
       "</table>\n",
       "<p>1043 rows × 7 columns</p>\n",
       "</div>"
      ],
      "text/plain": [
       "                 Open       High        Low      Close  Adj Close    Volume  \\\n",
       "Date                                                                          \n",
       "02-01-2019  50.828499  52.616001  50.785500  52.292500  52.292500  30652000   \n",
       "03-01-2019  52.049999  52.848999  50.703499  50.803001  50.803001  36822000   \n",
       "04-01-2019  51.629501  53.542000  51.370899  53.535500  53.535500  41878000   \n",
       "07-01-2019  53.575001  53.700001  52.737999  53.419498  53.419498  39638000   \n",
       "08-01-2019  53.805500  54.228001  53.026501  53.813999  53.813999  35298000   \n",
       "...               ...        ...        ...        ...        ...       ...   \n",
       "15-02-2023  94.739998  97.339996  94.360001  97.099998  97.099998  37029900   \n",
       "16-02-2023  95.540001  97.879997  94.970001  95.779999  95.779999  35642100   \n",
       "17-02-2023  95.070000  95.750000  93.449997  94.589996  94.589996  31074100   \n",
       "21-02-2023  93.239998  93.415001  92.000000  92.050003  92.050003  28367200   \n",
       "22-02-2023  91.933998  92.360001  90.870003  91.800003  91.800003  29858500   \n",
       "\n",
       "             Tomorrow  \n",
       "Date                   \n",
       "02-01-2019  50.803001  \n",
       "03-01-2019  53.535500  \n",
       "04-01-2019  53.419498  \n",
       "07-01-2019  53.813999  \n",
       "08-01-2019  53.733002  \n",
       "...               ...  \n",
       "15-02-2023  95.779999  \n",
       "16-02-2023  94.589996  \n",
       "17-02-2023  92.050003  \n",
       "21-02-2023  91.800003  \n",
       "22-02-2023        NaN  \n",
       "\n",
       "[1043 rows x 7 columns]"
      ]
     },
     "execution_count": 5,
     "metadata": {},
     "output_type": "execute_result"
    }
   ],
   "source": [
    "df[\"Tomorrow\"]  = df[\"Close\"].shift(-1)\n",
    "\n",
    "df"
   ]
  },
  {
   "cell_type": "code",
   "execution_count": 6,
   "id": "55d7f908",
   "metadata": {},
   "outputs": [
    {
     "data": {
      "text/html": [
       "<div>\n",
       "<style scoped>\n",
       "    .dataframe tbody tr th:only-of-type {\n",
       "        vertical-align: middle;\n",
       "    }\n",
       "\n",
       "    .dataframe tbody tr th {\n",
       "        vertical-align: top;\n",
       "    }\n",
       "\n",
       "    .dataframe thead th {\n",
       "        text-align: right;\n",
       "    }\n",
       "</style>\n",
       "<table border=\"1\" class=\"dataframe\">\n",
       "  <thead>\n",
       "    <tr style=\"text-align: right;\">\n",
       "      <th></th>\n",
       "      <th>Open</th>\n",
       "      <th>High</th>\n",
       "      <th>Low</th>\n",
       "      <th>Close</th>\n",
       "      <th>Adj Close</th>\n",
       "      <th>Volume</th>\n",
       "      <th>Tomorrow</th>\n",
       "      <th>Target</th>\n",
       "    </tr>\n",
       "    <tr>\n",
       "      <th>Date</th>\n",
       "      <th></th>\n",
       "      <th></th>\n",
       "      <th></th>\n",
       "      <th></th>\n",
       "      <th></th>\n",
       "      <th></th>\n",
       "      <th></th>\n",
       "      <th></th>\n",
       "    </tr>\n",
       "  </thead>\n",
       "  <tbody>\n",
       "    <tr>\n",
       "      <th>02-01-2019</th>\n",
       "      <td>50.828499</td>\n",
       "      <td>52.616001</td>\n",
       "      <td>50.785500</td>\n",
       "      <td>52.292500</td>\n",
       "      <td>52.292500</td>\n",
       "      <td>30652000</td>\n",
       "      <td>50.803001</td>\n",
       "      <td>0</td>\n",
       "    </tr>\n",
       "    <tr>\n",
       "      <th>03-01-2019</th>\n",
       "      <td>52.049999</td>\n",
       "      <td>52.848999</td>\n",
       "      <td>50.703499</td>\n",
       "      <td>50.803001</td>\n",
       "      <td>50.803001</td>\n",
       "      <td>36822000</td>\n",
       "      <td>53.535500</td>\n",
       "      <td>1</td>\n",
       "    </tr>\n",
       "    <tr>\n",
       "      <th>04-01-2019</th>\n",
       "      <td>51.629501</td>\n",
       "      <td>53.542000</td>\n",
       "      <td>51.370899</td>\n",
       "      <td>53.535500</td>\n",
       "      <td>53.535500</td>\n",
       "      <td>41878000</td>\n",
       "      <td>53.419498</td>\n",
       "      <td>0</td>\n",
       "    </tr>\n",
       "    <tr>\n",
       "      <th>07-01-2019</th>\n",
       "      <td>53.575001</td>\n",
       "      <td>53.700001</td>\n",
       "      <td>52.737999</td>\n",
       "      <td>53.419498</td>\n",
       "      <td>53.419498</td>\n",
       "      <td>39638000</td>\n",
       "      <td>53.813999</td>\n",
       "      <td>1</td>\n",
       "    </tr>\n",
       "    <tr>\n",
       "      <th>08-01-2019</th>\n",
       "      <td>53.805500</td>\n",
       "      <td>54.228001</td>\n",
       "      <td>53.026501</td>\n",
       "      <td>53.813999</td>\n",
       "      <td>53.813999</td>\n",
       "      <td>35298000</td>\n",
       "      <td>53.733002</td>\n",
       "      <td>0</td>\n",
       "    </tr>\n",
       "  </tbody>\n",
       "</table>\n",
       "</div>"
      ],
      "text/plain": [
       "                 Open       High        Low      Close  Adj Close    Volume  \\\n",
       "Date                                                                          \n",
       "02-01-2019  50.828499  52.616001  50.785500  52.292500  52.292500  30652000   \n",
       "03-01-2019  52.049999  52.848999  50.703499  50.803001  50.803001  36822000   \n",
       "04-01-2019  51.629501  53.542000  51.370899  53.535500  53.535500  41878000   \n",
       "07-01-2019  53.575001  53.700001  52.737999  53.419498  53.419498  39638000   \n",
       "08-01-2019  53.805500  54.228001  53.026501  53.813999  53.813999  35298000   \n",
       "\n",
       "             Tomorrow  Target  \n",
       "Date                           \n",
       "02-01-2019  50.803001       0  \n",
       "03-01-2019  53.535500       1  \n",
       "04-01-2019  53.419498       0  \n",
       "07-01-2019  53.813999       1  \n",
       "08-01-2019  53.733002       0  "
      ]
     },
     "execution_count": 6,
     "metadata": {},
     "output_type": "execute_result"
    }
   ],
   "source": [
    "df[\"Target\"] = (df[\"Tomorrow\"]> df[\"Close\"]).astype(int)\n",
    "\n",
    "df.head()"
   ]
  },
  {
   "cell_type": "code",
   "execution_count": 7,
   "id": "a90ab0cc",
   "metadata": {},
   "outputs": [
    {
     "data": {
      "text/plain": [
       "(1043, 8)"
      ]
     },
     "execution_count": 7,
     "metadata": {},
     "output_type": "execute_result"
    }
   ],
   "source": [
    "df.shape"
   ]
  },
  {
   "cell_type": "code",
   "execution_count": 8,
   "id": "9ce1aa42",
   "metadata": {},
   "outputs": [
    {
     "name": "stderr",
     "output_type": "stream",
     "text": [
      "C:\\Users\\ADMIN\\anaconda3\\lib\\site-packages\\scipy\\__init__.py:138: UserWarning: A NumPy version >=1.16.5 and <1.23.0 is required for this version of SciPy (detected version 1.23.4)\n",
      "  warnings.warn(f\"A NumPy version >={np_minversion} and <{np_maxversion} is required for this version of \"\n"
     ]
    },
    {
     "data": {
      "text/plain": [
       "RandomForestRegressor(min_samples_split=100, random_state=1)"
      ]
     },
     "execution_count": 8,
     "metadata": {},
     "output_type": "execute_result"
    }
   ],
   "source": [
    "from sklearn.ensemble import RandomForestRegressor\n",
    "\n",
    "model = RandomForestRegressor(n_estimators=100, min_samples_split=100, random_state=1)\n",
    "\n",
    "train = df.iloc[:-100]\n",
    "test  = df.iloc[-100:]\n",
    "\n",
    "predictors = [\"Adj Close\", \"Volume\", \"Open\", \"High\", \"Low\"]\n",
    "\n",
    "model.fit(train[predictors], train[\"Close\"])"
   ]
  },
  {
   "cell_type": "code",
   "execution_count": 9,
   "id": "4e4d5aef",
   "metadata": {},
   "outputs": [
    {
     "data": {
      "text/plain": [
       "array([102.96760314,  97.43617565, 103.86648418, 104.85518827,\n",
       "       104.85518827, 104.85518827, 104.85518827, 104.85518827,\n",
       "       104.35157103, 104.50904431,  98.27055204, 101.62362165,\n",
       "       104.85518827, 104.85518827, 104.85518827, 104.85518827,\n",
       "       104.69470874, 104.85518827, 104.85518827,  90.99127891,\n",
       "        88.33252517,  89.6358076 ,  88.81388613,  88.81388613,\n",
       "        88.33252517,  88.33252517,  88.33252517,  88.33252517,\n",
       "        88.33252517,  88.33252517,  88.33252517,  90.12041879,\n",
       "        89.31362827, 104.85518827, 104.69470874, 103.68081975,\n",
       "       103.98226728,  94.39041963,  94.22628604, 103.34451067,\n",
       "       101.88236584,  93.98833883,  88.81388613,  97.95432919,\n",
       "       104.85518827, 104.85518827, 104.85518827, 103.28155573,\n",
       "        89.95901912,  88.81388613,  88.33252517,  88.33252517,\n",
       "        96.82229785,  88.81388613,  88.33252517,  88.33252517,\n",
       "        88.33252517,  88.33252517,  88.33252517,  88.33252517,\n",
       "        88.33252517,  88.33252517,  88.33252517,  88.33252517,\n",
       "        88.33252517,  88.33252517,  88.33252517,  88.33252517,\n",
       "        88.33252517,  88.33252517,  88.33252517,  88.33252517,\n",
       "        88.33252517,  88.33252517,  88.33252517,  88.33252517,\n",
       "        88.33252517,  98.89168117, 104.85518827, 104.85518827,\n",
       "        93.18154526, 104.33824567, 104.85518827, 104.32638613,\n",
       "       104.53228149, 104.85518827, 104.85518827, 104.85518827,\n",
       "       104.85518827, 104.85518827, 104.85518827,  96.16681238,\n",
       "        88.81388613,  88.33252517,  88.33252517,  91.42127378,\n",
       "        90.11446231,  88.49766328,  88.33252517,  88.33252517])"
      ]
     },
     "execution_count": 9,
     "metadata": {},
     "output_type": "execute_result"
    }
   ],
   "source": [
    "from sklearn.metrics import precision_score\n",
    "\n",
    "preds = model.predict(test[predictors])\n",
    "\n",
    "preds"
   ]
  },
  {
   "cell_type": "code",
   "execution_count": 10,
   "id": "3a3e61e9",
   "metadata": {},
   "outputs": [
    {
     "data": {
      "text/plain": [
       "Date\n",
       "29-09-2022    102.967603\n",
       "30-09-2022     97.436176\n",
       "03-10-2022    103.866484\n",
       "04-10-2022    104.855188\n",
       "05-10-2022    104.855188\n",
       "                 ...    \n",
       "15-02-2023     91.421274\n",
       "16-02-2023     90.114462\n",
       "17-02-2023     88.497663\n",
       "21-02-2023     88.332525\n",
       "22-02-2023     88.332525\n",
       "Length: 100, dtype: float64"
      ]
     },
     "execution_count": 10,
     "metadata": {},
     "output_type": "execute_result"
    }
   ],
   "source": [
    "preds = pd.Series(preds , index = test.index)\n",
    "\n",
    "preds"
   ]
  },
  {
   "cell_type": "code",
   "execution_count": 12,
   "id": "87853c8f",
   "metadata": {},
   "outputs": [
    {
     "data": {
      "image/png": "[encoded data removed]",
      "text/plain": [
       "<Figure size 720x360 with 1 Axes>"
      ]
     },
     "metadata": {
      "needs_background": "light"
     },
     "output_type": "display_data"
    }
   ],
   "source": [
    "plt.figure(figsize=(10,5))\n",
    "plt.plot(test[\"Close\"], label = \"Original Value\")\n",
    "plt.plot(preds , label = \"Predicted value\")\n",
    "plt.xticks([])\n",
    "plt.legend();"
   ]
  },
  {
   "cell_type": "code",
   "execution_count": null,
   "id": "caf7f81b",
   "metadata": {},
   "outputs": [],
   "source": []
  },
  {
   "cell_type": "code",
   "execution_count": null,
   "id": "86ce09eb",
   "metadata": {},
   "outputs": [],
   "source": []
  }
 ],
 "metadata": {
  "kernelspec": {
   "display_name": "Python 3",
   "language": "python",
   "name": "python3"
  },
  "language_info": {
   "codemirror_mode": {
    "name": "ipython",
    "version": 3
   },
   "file_extension": ".py",
   "mimetype": "text/x-python",
   "name": "python",
   "nbconvert_exporter": "python",
   "pygments_lexer": "ipython3",
   "version": "3.8.8"
  }
 },
 "nbformat": 4,
 "nbformat_minor": 5
}
