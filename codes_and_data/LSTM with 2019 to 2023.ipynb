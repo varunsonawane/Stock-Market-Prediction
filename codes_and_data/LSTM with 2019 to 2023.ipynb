{
 "cells": [
  {
   "cell_type": "code",
   "execution_count": 4,
   "id": "256b8481",
   "metadata": {},
   "outputs": [],
   "source": [
    "import pandas as pd"
   ]
  },
  {
   "cell_type": "code",
   "execution_count": 5,
   "id": "eb36f86c",
   "metadata": {},
   "outputs": [],
   "source": [
    "df=pd.read_csv('TATAMOTORS.csv')"
   ]
  },
  {
   "cell_type": "code",
   "execution_count": 6,
   "id": "58f0d613",
   "metadata": {},
   "outputs": [
    {
     "data": {
      "text/html": [
       "<div>\n",
       "<style scoped>\n",
       "    .dataframe tbody tr th:only-of-type {\n",
       "        vertical-align: middle;\n",
       "    }\n",
       "\n",
       "    .dataframe tbody tr th {\n",
       "        vertical-align: top;\n",
       "    }\n",
       "\n",
       "    .dataframe thead th {\n",
       "        text-align: right;\n",
       "    }\n",
       "</style>\n",
       "<table border=\"1\" class=\"dataframe\">\n",
       "  <thead>\n",
       "    <tr style=\"text-align: right;\">\n",
       "      <th></th>\n",
       "      <th>Date</th>\n",
       "      <th>Open</th>\n",
       "      <th>High</th>\n",
       "      <th>Low</th>\n",
       "      <th>Close</th>\n",
       "      <th>Adj Close</th>\n",
       "      <th>Volume</th>\n",
       "    </tr>\n",
       "  </thead>\n",
       "  <tbody>\n",
       "    <tr>\n",
       "      <th>0</th>\n",
       "      <td>2019-01-01</td>\n",
       "      <td>173.500000</td>\n",
       "      <td>174.199997</td>\n",
       "      <td>171.300003</td>\n",
       "      <td>173.449997</td>\n",
       "      <td>173.449997</td>\n",
       "      <td>6715543</td>\n",
       "    </tr>\n",
       "    <tr>\n",
       "      <th>1</th>\n",
       "      <td>2019-01-02</td>\n",
       "      <td>170.600006</td>\n",
       "      <td>171.750000</td>\n",
       "      <td>168.000000</td>\n",
       "      <td>168.550003</td>\n",
       "      <td>168.550003</td>\n",
       "      <td>13410104</td>\n",
       "    </tr>\n",
       "    <tr>\n",
       "      <th>2</th>\n",
       "      <td>2019-01-03</td>\n",
       "      <td>169.000000</td>\n",
       "      <td>170.149994</td>\n",
       "      <td>165.100006</td>\n",
       "      <td>166.050003</td>\n",
       "      <td>166.050003</td>\n",
       "      <td>9321842</td>\n",
       "    </tr>\n",
       "    <tr>\n",
       "      <th>3</th>\n",
       "      <td>2019-01-04</td>\n",
       "      <td>169.000000</td>\n",
       "      <td>171.949997</td>\n",
       "      <td>168.500000</td>\n",
       "      <td>170.949997</td>\n",
       "      <td>170.949997</td>\n",
       "      <td>17650435</td>\n",
       "    </tr>\n",
       "    <tr>\n",
       "      <th>4</th>\n",
       "      <td>2019-01-07</td>\n",
       "      <td>173.199997</td>\n",
       "      <td>178.199997</td>\n",
       "      <td>173.199997</td>\n",
       "      <td>175.350006</td>\n",
       "      <td>175.350006</td>\n",
       "      <td>21438351</td>\n",
       "    </tr>\n",
       "  </tbody>\n",
       "</table>\n",
       "</div>"
      ],
      "text/plain": [
       "         Date        Open        High         Low       Close   Adj Close  \\\n",
       "0  2019-01-01  173.500000  174.199997  171.300003  173.449997  173.449997   \n",
       "1  2019-01-02  170.600006  171.750000  168.000000  168.550003  168.550003   \n",
       "2  2019-01-03  169.000000  170.149994  165.100006  166.050003  166.050003   \n",
       "3  2019-01-04  169.000000  171.949997  168.500000  170.949997  170.949997   \n",
       "4  2019-01-07  173.199997  178.199997  173.199997  175.350006  175.350006   \n",
       "\n",
       "     Volume  \n",
       "0   6715543  \n",
       "1  13410104  \n",
       "2   9321842  \n",
       "3  17650435  \n",
       "4  21438351  "
      ]
     },
     "execution_count": 6,
     "metadata": {},
     "output_type": "execute_result"
    }
   ],
   "source": [
    "df.head()"
   ]
  },
  {
   "cell_type": "code",
   "execution_count": 7,
   "id": "a60e011d",
   "metadata": {},
   "outputs": [
    {
     "data": {
      "text/html": [
       "<div>\n",
       "<style scoped>\n",
       "    .dataframe tbody tr th:only-of-type {\n",
       "        vertical-align: middle;\n",
       "    }\n",
       "\n",
       "    .dataframe tbody tr th {\n",
       "        vertical-align: top;\n",
       "    }\n",
       "\n",
       "    .dataframe thead th {\n",
       "        text-align: right;\n",
       "    }\n",
       "</style>\n",
       "<table border=\"1\" class=\"dataframe\">\n",
       "  <thead>\n",
       "    <tr style=\"text-align: right;\">\n",
       "      <th></th>\n",
       "      <th>Date</th>\n",
       "      <th>Open</th>\n",
       "      <th>High</th>\n",
       "      <th>Low</th>\n",
       "      <th>Close</th>\n",
       "      <th>Adj Close</th>\n",
       "      <th>Volume</th>\n",
       "    </tr>\n",
       "  </thead>\n",
       "  <tbody>\n",
       "    <tr>\n",
       "      <th>1041</th>\n",
       "      <td>2023-03-16</td>\n",
       "      <td>413.299988</td>\n",
       "      <td>418.500000</td>\n",
       "      <td>405.000000</td>\n",
       "      <td>415.700012</td>\n",
       "      <td>415.700012</td>\n",
       "      <td>11854885</td>\n",
       "    </tr>\n",
       "    <tr>\n",
       "      <th>1042</th>\n",
       "      <td>2023-03-17</td>\n",
       "      <td>419.000000</td>\n",
       "      <td>423.450012</td>\n",
       "      <td>414.549988</td>\n",
       "      <td>419.000000</td>\n",
       "      <td>419.000000</td>\n",
       "      <td>8658701</td>\n",
       "    </tr>\n",
       "    <tr>\n",
       "      <th>1043</th>\n",
       "      <td>2023-03-20</td>\n",
       "      <td>415.600006</td>\n",
       "      <td>416.950012</td>\n",
       "      <td>405.500000</td>\n",
       "      <td>410.750000</td>\n",
       "      <td>410.750000</td>\n",
       "      <td>10075022</td>\n",
       "    </tr>\n",
       "    <tr>\n",
       "      <th>1044</th>\n",
       "      <td>2023-03-21</td>\n",
       "      <td>412.850006</td>\n",
       "      <td>413.899994</td>\n",
       "      <td>407.700012</td>\n",
       "      <td>412.549988</td>\n",
       "      <td>412.549988</td>\n",
       "      <td>7391950</td>\n",
       "    </tr>\n",
       "    <tr>\n",
       "      <th>1045</th>\n",
       "      <td>2023-03-22</td>\n",
       "      <td>416.000000</td>\n",
       "      <td>418.399994</td>\n",
       "      <td>413.750000</td>\n",
       "      <td>416.100006</td>\n",
       "      <td>416.100006</td>\n",
       "      <td>5728054</td>\n",
       "    </tr>\n",
       "  </tbody>\n",
       "</table>\n",
       "</div>"
      ],
      "text/plain": [
       "            Date        Open        High         Low       Close   Adj Close  \\\n",
       "1041  2023-03-16  413.299988  418.500000  405.000000  415.700012  415.700012   \n",
       "1042  2023-03-17  419.000000  423.450012  414.549988  419.000000  419.000000   \n",
       "1043  2023-03-20  415.600006  416.950012  405.500000  410.750000  410.750000   \n",
       "1044  2023-03-21  412.850006  413.899994  407.700012  412.549988  412.549988   \n",
       "1045  2023-03-22  416.000000  418.399994  413.750000  416.100006  416.100006   \n",
       "\n",
       "        Volume  \n",
       "1041  11854885  \n",
       "1042   8658701  \n",
       "1043  10075022  \n",
       "1044   7391950  \n",
       "1045   5728054  "
      ]
     },
     "execution_count": 7,
     "metadata": {},
     "output_type": "execute_result"
    }
   ],
   "source": [
    "df.tail()"
   ]
  },
  {
   "cell_type": "code",
   "execution_count": 8,
   "id": "1f13f6fe",
   "metadata": {},
   "outputs": [],
   "source": [
    "df1=df.reset_index()['Close']"
   ]
  },
  {
   "cell_type": "code",
   "execution_count": 9,
   "id": "270c9305",
   "metadata": {},
   "outputs": [
    {
     "data": {
      "text/plain": [
       "0       173.449997\n",
       "1       168.550003\n",
       "2       166.050003\n",
       "3       170.949997\n",
       "4       175.350006\n",
       "           ...    \n",
       "1041    415.700012\n",
       "1042    419.000000\n",
       "1043    410.750000\n",
       "1044    412.549988\n",
       "1045    416.100006\n",
       "Name: Close, Length: 1046, dtype: float64"
      ]
     },
     "execution_count": 9,
     "metadata": {},
     "output_type": "execute_result"
    }
   ],
   "source": [
    "df1"
   ]
  },
  {
   "cell_type": "code",
   "execution_count": 10,
   "id": "e6c21c9f",
   "metadata": {},
   "outputs": [
    {
     "data": {
      "text/plain": [
       "[<matplotlib.lines.Line2D at 0x18a5c0e7280>]"
      ]
     },
     "execution_count": 10,
     "metadata": {},
     "output_type": "execute_result"
    },
    {
     "data": {
      "image/png": "[encoded data removed]",
      "text/plain": [
       "<Figure size 432x288 with 1 Axes>"
      ]
     },
     "metadata": {
      "needs_background": "light"
     },
     "output_type": "display_data"
    }
   ],
   "source": [
    "import matplotlib.pyplot as plt\n",
    "plt.plot(df1)\n",
    "\n"
   ]
  },
  {
   "cell_type": "code",
   "execution_count": 11,
   "id": "ab259200",
   "metadata": {},
   "outputs": [
    {
     "data": {
      "text/html": [
       "<div>\n",
       "<style scoped>\n",
       "    .dataframe tbody tr th:only-of-type {\n",
       "        vertical-align: middle;\n",
       "    }\n",
       "\n",
       "    .dataframe tbody tr th {\n",
       "        vertical-align: top;\n",
       "    }\n",
       "\n",
       "    .dataframe thead th {\n",
       "        text-align: right;\n",
       "    }\n",
       "</style>\n",
       "<table border=\"1\" class=\"dataframe\">\n",
       "  <thead>\n",
       "    <tr style=\"text-align: right;\">\n",
       "      <th></th>\n",
       "      <th>Date</th>\n",
       "      <th>Open</th>\n",
       "      <th>High</th>\n",
       "      <th>Low</th>\n",
       "      <th>Close</th>\n",
       "      <th>Adj Close</th>\n",
       "      <th>Volume</th>\n",
       "    </tr>\n",
       "  </thead>\n",
       "  <tbody>\n",
       "    <tr>\n",
       "      <th>0</th>\n",
       "      <td>2019-01-01</td>\n",
       "      <td>173.500000</td>\n",
       "      <td>174.199997</td>\n",
       "      <td>171.300003</td>\n",
       "      <td>173.449997</td>\n",
       "      <td>173.449997</td>\n",
       "      <td>6715543</td>\n",
       "    </tr>\n",
       "    <tr>\n",
       "      <th>1</th>\n",
       "      <td>2019-01-02</td>\n",
       "      <td>170.600006</td>\n",
       "      <td>171.750000</td>\n",
       "      <td>168.000000</td>\n",
       "      <td>168.550003</td>\n",
       "      <td>168.550003</td>\n",
       "      <td>13410104</td>\n",
       "    </tr>\n",
       "    <tr>\n",
       "      <th>2</th>\n",
       "      <td>2019-01-03</td>\n",
       "      <td>169.000000</td>\n",
       "      <td>170.149994</td>\n",
       "      <td>165.100006</td>\n",
       "      <td>166.050003</td>\n",
       "      <td>166.050003</td>\n",
       "      <td>9321842</td>\n",
       "    </tr>\n",
       "    <tr>\n",
       "      <th>3</th>\n",
       "      <td>2019-01-04</td>\n",
       "      <td>169.000000</td>\n",
       "      <td>171.949997</td>\n",
       "      <td>168.500000</td>\n",
       "      <td>170.949997</td>\n",
       "      <td>170.949997</td>\n",
       "      <td>17650435</td>\n",
       "    </tr>\n",
       "    <tr>\n",
       "      <th>4</th>\n",
       "      <td>2019-01-07</td>\n",
       "      <td>173.199997</td>\n",
       "      <td>178.199997</td>\n",
       "      <td>173.199997</td>\n",
       "      <td>175.350006</td>\n",
       "      <td>175.350006</td>\n",
       "      <td>21438351</td>\n",
       "    </tr>\n",
       "    <tr>\n",
       "      <th>...</th>\n",
       "      <td>...</td>\n",
       "      <td>...</td>\n",
       "      <td>...</td>\n",
       "      <td>...</td>\n",
       "      <td>...</td>\n",
       "      <td>...</td>\n",
       "      <td>...</td>\n",
       "    </tr>\n",
       "    <tr>\n",
       "      <th>1041</th>\n",
       "      <td>2023-03-16</td>\n",
       "      <td>413.299988</td>\n",
       "      <td>418.500000</td>\n",
       "      <td>405.000000</td>\n",
       "      <td>415.700012</td>\n",
       "      <td>415.700012</td>\n",
       "      <td>11854885</td>\n",
       "    </tr>\n",
       "    <tr>\n",
       "      <th>1042</th>\n",
       "      <td>2023-03-17</td>\n",
       "      <td>419.000000</td>\n",
       "      <td>423.450012</td>\n",
       "      <td>414.549988</td>\n",
       "      <td>419.000000</td>\n",
       "      <td>419.000000</td>\n",
       "      <td>8658701</td>\n",
       "    </tr>\n",
       "    <tr>\n",
       "      <th>1043</th>\n",
       "      <td>2023-03-20</td>\n",
       "      <td>415.600006</td>\n",
       "      <td>416.950012</td>\n",
       "      <td>405.500000</td>\n",
       "      <td>410.750000</td>\n",
       "      <td>410.750000</td>\n",
       "      <td>10075022</td>\n",
       "    </tr>\n",
       "    <tr>\n",
       "      <th>1044</th>\n",
       "      <td>2023-03-21</td>\n",
       "      <td>412.850006</td>\n",
       "      <td>413.899994</td>\n",
       "      <td>407.700012</td>\n",
       "      <td>412.549988</td>\n",
       "      <td>412.549988</td>\n",
       "      <td>7391950</td>\n",
       "    </tr>\n",
       "    <tr>\n",
       "      <th>1045</th>\n",
       "      <td>2023-03-22</td>\n",
       "      <td>416.000000</td>\n",
       "      <td>418.399994</td>\n",
       "      <td>413.750000</td>\n",
       "      <td>416.100006</td>\n",
       "      <td>416.100006</td>\n",
       "      <td>5728054</td>\n",
       "    </tr>\n",
       "  </tbody>\n",
       "</table>\n",
       "<p>1046 rows × 7 columns</p>\n",
       "</div>"
      ],
      "text/plain": [
       "            Date        Open        High         Low       Close   Adj Close  \\\n",
       "0     2019-01-01  173.500000  174.199997  171.300003  173.449997  173.449997   \n",
       "1     2019-01-02  170.600006  171.750000  168.000000  168.550003  168.550003   \n",
       "2     2019-01-03  169.000000  170.149994  165.100006  166.050003  166.050003   \n",
       "3     2019-01-04  169.000000  171.949997  168.500000  170.949997  170.949997   \n",
       "4     2019-01-07  173.199997  178.199997  173.199997  175.350006  175.350006   \n",
       "...          ...         ...         ...         ...         ...         ...   \n",
       "1041  2023-03-16  413.299988  418.500000  405.000000  415.700012  415.700012   \n",
       "1042  2023-03-17  419.000000  423.450012  414.549988  419.000000  419.000000   \n",
       "1043  2023-03-20  415.600006  416.950012  405.500000  410.750000  410.750000   \n",
       "1044  2023-03-21  412.850006  413.899994  407.700012  412.549988  412.549988   \n",
       "1045  2023-03-22  416.000000  418.399994  413.750000  416.100006  416.100006   \n",
       "\n",
       "        Volume  \n",
       "0      6715543  \n",
       "1     13410104  \n",
       "2      9321842  \n",
       "3     17650435  \n",
       "4     21438351  \n",
       "...        ...  \n",
       "1041  11854885  \n",
       "1042   8658701  \n",
       "1043  10075022  \n",
       "1044   7391950  \n",
       "1045   5728054  \n",
       "\n",
       "[1046 rows x 7 columns]"
      ]
     },
     "execution_count": 11,
     "metadata": {},
     "output_type": "execute_result"
    }
   ],
   "source": [
    "df"
   ]
  },
  {
   "cell_type": "code",
   "execution_count": 12,
   "id": "adefdf44",
   "metadata": {},
   "outputs": [],
   "source": [
    "import numpy as np"
   ]
  },
  {
   "cell_type": "code",
   "execution_count": 13,
   "id": "073f5739",
   "metadata": {},
   "outputs": [],
   "source": [
    "from sklearn.preprocessing import MinMaxScaler\n",
    "scaler=MinMaxScaler(feature_range=(0,1))\n",
    "df1=scaler.fit_transform(np.array(df1).reshape(-1,1))"
   ]
  },
  {
   "cell_type": "code",
   "execution_count": 14,
   "id": "9451eeb0",
   "metadata": {},
   "outputs": [
    {
     "name": "stdout",
     "output_type": "stream",
     "text": [
      "[[0.23265567]\n",
      " [0.22211465]\n",
      " [0.21673657]\n",
      " ...\n",
      " [0.74314291]\n",
      " [0.7470151 ]\n",
      " [0.75465201]]\n"
     ]
    }
   ],
   "source": [
    "\n",
    "print(df1)"
   ]
  },
  {
   "cell_type": "code",
   "execution_count": 15,
   "id": "8ef2b970",
   "metadata": {},
   "outputs": [],
   "source": [
    "##splitting dataset into train and test split\n",
    "training_size=int(len(df1)*0.65)\n",
    "test_size=len(df1)-training_size\n",
    "train_data,test_data=df1[0:training_size,:],df1[training_size:len(df1),:1]"
   ]
  },
  {
   "cell_type": "code",
   "execution_count": 16,
   "id": "35199bcc",
   "metadata": {},
   "outputs": [
    {
     "data": {
      "text/plain": [
       "(679, 367)"
      ]
     },
     "execution_count": 16,
     "metadata": {},
     "output_type": "execute_result"
    }
   ],
   "source": [
    "training_size,test_size"
   ]
  },
  {
   "cell_type": "code",
   "execution_count": 17,
   "id": "6a333a47",
   "metadata": {},
   "outputs": [],
   "source": [
    "import numpy\n",
    "# convert an array of values into a dataset matrix\n",
    "def create_dataset(dataset, time_step=1):\n",
    "\tdataX, dataY = [], []\n",
    "\tfor i in range(len(dataset)-time_step-1):\n",
    "\t\ta = dataset[i:(i+time_step), 0]   ###i=0, 0,1,2,3-----99   100 \n",
    "\t\tdataX.append(a)\n",
    "\t\tdataY.append(dataset[i + time_step, 0])\n",
    "\treturn numpy.array(dataX), numpy.array(dataY)"
   ]
  },
  {
   "cell_type": "code",
   "execution_count": 18,
   "id": "2d8b4ef3",
   "metadata": {},
   "outputs": [],
   "source": [
    "# reshape into X=t,t+1,t+2,t+3 and Y=t+4\n",
    "time_step = 100\n",
    "X_train, y_train = create_dataset(train_data, time_step)\n",
    "X_test, ytest = create_dataset(test_data, time_step)"
   ]
  },
  {
   "cell_type": "code",
   "execution_count": 19,
   "id": "a8d152a2",
   "metadata": {},
   "outputs": [
    {
     "name": "stdout",
     "output_type": "stream",
     "text": [
      "(578, 100)\n",
      "(578,)\n"
     ]
    },
    {
     "data": {
      "text/plain": [
       "(None, None)"
      ]
     },
     "execution_count": 19,
     "metadata": {},
     "output_type": "execute_result"
    }
   ],
   "source": [
    "print(X_train.shape), print(y_train.shape)"
   ]
  },
  {
   "cell_type": "code",
   "execution_count": 20,
   "id": "f7155cac",
   "metadata": {},
   "outputs": [
    {
     "name": "stdout",
     "output_type": "stream",
     "text": [
      "(266, 100)\n",
      "(266,)\n"
     ]
    },
    {
     "data": {
      "text/plain": [
       "(None, None)"
      ]
     },
     "execution_count": 20,
     "metadata": {},
     "output_type": "execute_result"
    }
   ],
   "source": [
    "print(X_test.shape), print(ytest.shape)"
   ]
  },
  {
   "cell_type": "code",
   "execution_count": 21,
   "id": "6b200bae",
   "metadata": {},
   "outputs": [],
   "source": [
    "# reshape input to be [samples, time steps, features] which is required for LSTM\n",
    "X_train =X_train.reshape(X_train.shape[0],X_train.shape[1] , 1)\n",
    "X_test = X_test.reshape(X_test.shape[0],X_test.shape[1] , 1)"
   ]
  },
  {
   "cell_type": "code",
   "execution_count": 22,
   "id": "b5d98a77",
   "metadata": {},
   "outputs": [],
   "source": [
    "### Create the Stacked LSTM model\n",
    "from tensorflow.keras.models import Sequential\n",
    "from tensorflow.keras.layers import Dense\n",
    "from tensorflow.keras.layers import LSTM"
   ]
  },
  {
   "cell_type": "code",
   "execution_count": 23,
   "id": "f942d86f",
   "metadata": {},
   "outputs": [],
   "source": [
    "model=Sequential()\n",
    "model.add(LSTM(50,return_sequences=True,input_shape=(100,1)))\n",
    "model.add(LSTM(50,return_sequences=True))\n",
    "model.add(LSTM(50))\n",
    "model.add(Dense(1))\n",
    "model.compile(loss='mean_squared_error',optimizer='adam')"
   ]
  },
  {
   "cell_type": "code",
   "execution_count": 24,
   "id": "13f0fb2d",
   "metadata": {
    "scrolled": false
   },
   "outputs": [
    {
     "name": "stdout",
     "output_type": "stream",
     "text": [
      "Model: \"sequential\"\n",
      "_________________________________________________________________\n",
      " Layer (type)                Output Shape              Param #   \n",
      "=================================================================\n",
      " lstm (LSTM)                 (None, 100, 50)           10400     \n",
      "                                                                 \n",
      " lstm_1 (LSTM)               (None, 100, 50)           20200     \n",
      "                                                                 \n",
      " lstm_2 (LSTM)               (None, 50)                20200     \n",
      "                                                                 \n",
      " dense (Dense)               (None, 1)                 51        \n",
      "                                                                 \n",
      "=================================================================\n",
      "Total params: 50,851\n",
      "Trainable params: 50,851\n",
      "Non-trainable params: 0\n",
      "_________________________________________________________________\n"
     ]
    }
   ],
   "source": [
    "\n",
    "model.summary()"
   ]
  },
  {
   "cell_type": "code",
   "execution_count": 25,
   "id": "6cd8316d",
   "metadata": {},
   "outputs": [
    {
     "name": "stdout",
     "output_type": "stream",
     "text": [
      "Epoch 1/50\n",
      "10/10 [==============================] - 8s 269ms/step - loss: 0.0448 - val_loss: 0.0111\n",
      "Epoch 2/50\n",
      "10/10 [==============================] - 2s 178ms/step - loss: 0.0093 - val_loss: 0.0237\n",
      "Epoch 3/50\n",
      "10/10 [==============================] - 2s 178ms/step - loss: 0.0051 - val_loss: 0.0125\n",
      "Epoch 4/50\n",
      "10/10 [==============================] - 2s 171ms/step - loss: 0.0032 - val_loss: 0.0090\n",
      "Epoch 5/50\n",
      "10/10 [==============================] - 2s 180ms/step - loss: 0.0026 - val_loss: 0.0035\n",
      "Epoch 6/50\n",
      "10/10 [==============================] - 2s 179ms/step - loss: 0.0022 - val_loss: 0.0026\n",
      "Epoch 7/50\n",
      "10/10 [==============================] - 2s 175ms/step - loss: 0.0020 - val_loss: 0.0024\n",
      "Epoch 8/50\n",
      "10/10 [==============================] - 2s 183ms/step - loss: 0.0019 - val_loss: 0.0022\n",
      "Epoch 9/50\n",
      "10/10 [==============================] - 2s 174ms/step - loss: 0.0017 - val_loss: 0.0025\n",
      "Epoch 10/50\n",
      "10/10 [==============================] - 2s 173ms/step - loss: 0.0016 - val_loss: 0.0024\n",
      "Epoch 11/50\n",
      "10/10 [==============================] - 2s 172ms/step - loss: 0.0015 - val_loss: 0.0025\n",
      "Epoch 12/50\n",
      "10/10 [==============================] - 2s 172ms/step - loss: 0.0014 - val_loss: 0.0053\n",
      "Epoch 13/50\n",
      "10/10 [==============================] - 2s 171ms/step - loss: 0.0013 - val_loss: 0.0037\n",
      "Epoch 14/50\n",
      "10/10 [==============================] - 2s 175ms/step - loss: 0.0013 - val_loss: 0.0020\n",
      "Epoch 15/50\n",
      "10/10 [==============================] - 2s 181ms/step - loss: 0.0013 - val_loss: 0.0064\n",
      "Epoch 16/50\n",
      "10/10 [==============================] - 2s 173ms/step - loss: 0.0013 - val_loss: 0.0040\n",
      "Epoch 17/50\n",
      "10/10 [==============================] - 2s 177ms/step - loss: 0.0013 - val_loss: 0.0021\n",
      "Epoch 18/50\n",
      "10/10 [==============================] - 2s 174ms/step - loss: 0.0012 - val_loss: 0.0041\n",
      "Epoch 19/50\n",
      "10/10 [==============================] - 2s 187ms/step - loss: 0.0016 - val_loss: 0.0018\n",
      "Epoch 20/50\n",
      "10/10 [==============================] - 2s 186ms/step - loss: 0.0012 - val_loss: 0.0033\n",
      "Epoch 21/50\n",
      "10/10 [==============================] - 2s 178ms/step - loss: 0.0012 - val_loss: 0.0027\n",
      "Epoch 22/50\n",
      "10/10 [==============================] - 2s 173ms/step - loss: 0.0013 - val_loss: 0.0032\n",
      "Epoch 23/50\n",
      "10/10 [==============================] - 2s 175ms/step - loss: 0.0012 - val_loss: 0.0021\n",
      "Epoch 24/50\n",
      "10/10 [==============================] - 2s 171ms/step - loss: 9.6297e-04 - val_loss: 0.0027\n",
      "Epoch 25/50\n",
      "10/10 [==============================] - 2s 170ms/step - loss: 9.5261e-04 - val_loss: 0.0026\n",
      "Epoch 26/50\n",
      "10/10 [==============================] - 2s 168ms/step - loss: 0.0011 - val_loss: 0.0044\n",
      "Epoch 27/50\n",
      "10/10 [==============================] - 2s 168ms/step - loss: 0.0012 - val_loss: 0.0017\n",
      "Epoch 28/50\n",
      "10/10 [==============================] - 2s 173ms/step - loss: 0.0010 - val_loss: 0.0021\n",
      "Epoch 29/50\n",
      "10/10 [==============================] - 2s 165ms/step - loss: 8.9188e-04 - val_loss: 0.0018\n",
      "Epoch 30/50\n",
      "10/10 [==============================] - 2s 170ms/step - loss: 0.0011 - val_loss: 0.0016\n",
      "Epoch 31/50\n",
      "10/10 [==============================] - 2s 169ms/step - loss: 9.8658e-04 - val_loss: 0.0024\n",
      "Epoch 32/50\n",
      "10/10 [==============================] - 2s 169ms/step - loss: 0.0014 - val_loss: 0.0016\n",
      "Epoch 33/50\n",
      "10/10 [==============================] - 2s 168ms/step - loss: 8.6277e-04 - val_loss: 0.0043\n",
      "Epoch 34/50\n",
      "10/10 [==============================] - 2s 165ms/step - loss: 0.0017 - val_loss: 0.0043\n",
      "Epoch 35/50\n",
      "10/10 [==============================] - 2s 164ms/step - loss: 0.0015 - val_loss: 0.0029\n",
      "Epoch 36/50\n",
      "10/10 [==============================] - 2s 163ms/step - loss: 0.0010 - val_loss: 0.0013\n",
      "Epoch 37/50\n",
      "10/10 [==============================] - 2s 162ms/step - loss: 8.8010e-04 - val_loss: 0.0015\n",
      "Epoch 38/50\n",
      "10/10 [==============================] - 2s 164ms/step - loss: 8.4874e-04 - val_loss: 0.0026\n",
      "Epoch 39/50\n",
      "10/10 [==============================] - 2s 163ms/step - loss: 8.5898e-04 - val_loss: 0.0032\n",
      "Epoch 40/50\n",
      "10/10 [==============================] - 2s 163ms/step - loss: 8.0280e-04 - val_loss: 0.0016\n",
      "Epoch 41/50\n",
      "10/10 [==============================] - 2s 169ms/step - loss: 7.7497e-04 - val_loss: 0.0013\n",
      "Epoch 42/50\n",
      "10/10 [==============================] - 2s 163ms/step - loss: 7.7332e-04 - val_loss: 0.0020\n",
      "Epoch 43/50\n",
      "10/10 [==============================] - 2s 163ms/step - loss: 8.4636e-04 - val_loss: 0.0014\n",
      "Epoch 44/50\n",
      "10/10 [==============================] - 2s 168ms/step - loss: 7.8761e-04 - val_loss: 0.0014\n",
      "Epoch 45/50\n",
      "10/10 [==============================] - 2s 165ms/step - loss: 8.0632e-04 - val_loss: 0.0018\n",
      "Epoch 46/50\n",
      "10/10 [==============================] - 2s 161ms/step - loss: 9.8040e-04 - val_loss: 0.0012\n",
      "Epoch 47/50\n",
      "10/10 [==============================] - 2s 166ms/step - loss: 8.2247e-04 - val_loss: 0.0020\n",
      "Epoch 48/50\n",
      "10/10 [==============================] - 2s 166ms/step - loss: 7.8137e-04 - val_loss: 0.0019\n",
      "Epoch 49/50\n",
      "10/10 [==============================] - 2s 163ms/step - loss: 8.0488e-04 - val_loss: 0.0012\n",
      "Epoch 50/50\n",
      "10/10 [==============================] - 2s 163ms/step - loss: 7.9372e-04 - val_loss: 0.0012\n"
     ]
    }
   ],
   "source": [
    "history=model.fit(X_train,y_train,validation_data=(X_test,ytest),epochs=50,batch_size=64,verbose=1)"
   ]
  },
  {
   "cell_type": "code",
   "execution_count": 26,
   "id": "16f96d85",
   "metadata": {},
   "outputs": [],
   "source": [
    "import tensorflow as tf"
   ]
  },
  {
   "cell_type": "code",
   "execution_count": 27,
   "id": "091163cc",
   "metadata": {},
   "outputs": [
    {
     "name": "stdout",
     "output_type": "stream",
     "text": [
      "19/19 [==============================] - 2s 31ms/step\n",
      "9/9 [==============================] - 0s 32ms/step\n"
     ]
    }
   ],
   "source": [
    "### Lets Do the prediction and check performance metrics\n",
    "train_predict=model.predict(X_train)\n",
    "test_predict=model.predict(X_test)"
   ]
  },
  {
   "cell_type": "code",
   "execution_count": 28,
   "id": "3f5045a9",
   "metadata": {},
   "outputs": [],
   "source": [
    "##Transformback to original form\n",
    "train_predict=scaler.inverse_transform(train_predict)\n",
    "test_predict=scaler.inverse_transform(test_predict)"
   ]
  },
  {
   "cell_type": "code",
   "execution_count": 29,
   "id": "6e5cc1ab",
   "metadata": {},
   "outputs": [
    {
     "data": {
      "text/plain": [
       "209.17203463237541"
      ]
     },
     "execution_count": 29,
     "metadata": {},
     "output_type": "execute_result"
    }
   ],
   "source": [
    "### Calculate RMSE performance metrics\n",
    "import math\n",
    "from sklearn.metrics import mean_squared_error\n",
    "math.sqrt(mean_squared_error(y_train,train_predict))"
   ]
  },
  {
   "cell_type": "code",
   "execution_count": 30,
   "id": "6890dcbc",
   "metadata": {},
   "outputs": [
    {
     "data": {
      "text/plain": [
       "426.2056723682235"
      ]
     },
     "execution_count": 30,
     "metadata": {},
     "output_type": "execute_result"
    }
   ],
   "source": [
    "### Test Data RMSE\n",
    "math.sqrt(mean_squared_error(ytest,test_predict))"
   ]
  },
  {
   "cell_type": "code",
   "execution_count": 31,
   "id": "effda768",
   "metadata": {},
   "outputs": [
    {
     "data": {
      "image/png": "[encoded data removed]",
      "text/plain": [
       "<Figure size 432x288 with 1 Axes>"
      ]
     },
     "metadata": {
      "needs_background": "light"
     },
     "output_type": "display_data"
    }
   ],
   "source": [
    "### Plotting \n",
    "# shift train predictions for plotting\n",
    "look_back=100\n",
    "trainPredictPlot = numpy.empty_like(df1)\n",
    "trainPredictPlot[:, :] = np.nan\n",
    "trainPredictPlot[look_back:len(train_predict)+look_back, :] = train_predict\n",
    "# shift test predictions for plotting\n",
    "testPredictPlot = numpy.empty_like(df1)\n",
    "testPredictPlot[:, :] = numpy.nan\n",
    "testPredictPlot[len(train_predict)+(look_back*2)+1:len(df1)-1, :] = test_predict\n",
    "# plot baseline and predictions\n",
    "\n",
    "plt.plot(scaler.inverse_transform(df1))\n",
    "plt.plot(trainPredictPlot)\n",
    "plt.plot(testPredictPlot)\n",
    "plt.show()"
   ]
  },
  {
   "cell_type": "code",
   "execution_count": 32,
   "id": "21a031e0",
   "metadata": {},
   "outputs": [
    {
     "data": {
      "text/plain": [
       "367"
      ]
     },
     "execution_count": 32,
     "metadata": {},
     "output_type": "execute_result"
    }
   ],
   "source": [
    "len(test_data)"
   ]
  },
  {
   "cell_type": "code",
   "execution_count": 33,
   "id": "d7a39ea8",
   "metadata": {},
   "outputs": [
    {
     "data": {
      "text/plain": [
       "(1, 101)"
      ]
     },
     "execution_count": 33,
     "metadata": {},
     "output_type": "execute_result"
    }
   ],
   "source": [
    "x_input=test_data[266:].reshape(1,-1)\n",
    "x_input.shape"
   ]
  },
  {
   "cell_type": "code",
   "execution_count": 34,
   "id": "49d77222",
   "metadata": {},
   "outputs": [],
   "source": [
    "temp_input=list(x_input)\n",
    "temp_input=temp_input[0].tolist()"
   ]
  },
  {
   "cell_type": "code",
   "execution_count": 35,
   "id": "cf579b0d",
   "metadata": {},
   "outputs": [
    {
     "data": {
      "text/plain": [
       "[0.7413143496448286,\n",
       " 0.7474453722784707,\n",
       " 0.765945975938764,\n",
       " 0.7676669353103028,\n",
       " 0.7549746824686062,\n",
       " 0.7745509018703475,\n",
       " 0.7953102727729036,\n",
       " 0.7913304816221572,\n",
       " 0.7462622207776558,\n",
       " 0.7705711107196012,\n",
       " 0.7925136976599167,\n",
       " 0.7999354075537407,\n",
       " 0.787888498342135,\n",
       " 0.7698181667931987,\n",
       " 0.7712164543496921,\n",
       " 0.76540816806804,\n",
       " 0.7731526143138541,\n",
       " 0.7717542622204161,\n",
       " 0.7703559746639227,\n",
       " 0.7914380819184688,\n",
       " 0.7915456176778358,\n",
       " 0.7913304816221572,\n",
       " 0.8047756783902563,\n",
       " 0.802301775092315,\n",
       " 0.796170752458673,\n",
       " 0.7818650760048044,\n",
       " 0.7783155569654152,\n",
       " 0.7632569365851442,\n",
       " 0.7570183781921351,\n",
       " 0.7486285237792856,\n",
       " 0.750457083447136,\n",
       " 0.7598149533051219,\n",
       " 0.7585242015079955,\n",
       " 0.7559427624506871,\n",
       " 0.766483783809488,\n",
       " 0.758739337563674,\n",
       " 0.742605101441955,\n",
       " 0.7256103856344667,\n",
       " 0.7080778619562543,\n",
       " 0.6734430221742422,\n",
       " 0.6873184265167537,\n",
       " 0.7074324537892189,\n",
       " 0.7013014311555767,\n",
       " 0.6896847940553281,\n",
       " 0.6940948573174314,\n",
       " 0.7088307413457122,\n",
       " 0.7068946459184949,\n",
       " 0.6890394504252372,\n",
       " 0.6918360255382239,\n",
       " 0.6812950041794231,\n",
       " 0.6973217045417751,\n",
       " 0.7477680440935162,\n",
       " 0.759169609675031,\n",
       " 0.7463697565370228,\n",
       " 0.7447563329248509,\n",
       " 0.7479831801491947,\n",
       " 0.7529309867450773,\n",
       " 0.7380875024204848,\n",
       " 0.7216305944837205,\n",
       " 0.7267935371352816,\n",
       " 0.7380875024204848,\n",
       " 0.7676669353103028,\n",
       " 0.7609981048059368,\n",
       " 0.8181133393989886,\n",
       " 0.8139184121925638,\n",
       " 0.8320963440378115,\n",
       " 0.8203721066412514,\n",
       " 0.8163923154905051,\n",
       " 0.817790667583943,\n",
       " 0.8103688931531745,\n",
       " 0.7962783527549845,\n",
       " 0.8062815662430612,\n",
       " 0.7990749278679713,\n",
       " 0.8186511472697124,\n",
       " 0.8083251974296456,\n",
       " 0.8072495816881977,\n",
       " 0.8149940279340117,\n",
       " 0.8095084134674051,\n",
       " 0.8058512941317043,\n",
       " 0.8125201246360704,\n",
       " 0.7985371199972473,\n",
       " 0.7833709638576093,\n",
       " 0.7914380819184688,\n",
       " 0.7797138445219085,\n",
       " 0.758631801804307,\n",
       " 0.7645476883822706,\n",
       " 0.7759491894268408,\n",
       " 0.7640098805115466,\n",
       " 0.7802516523926325,\n",
       " 0.8062815662430612,\n",
       " 0.8045605423345779,\n",
       " 0.7892868504355729,\n",
       " 0.7971388324407539,\n",
       " 0.7682047431810268,\n",
       " 0.7558351621543756,\n",
       " 0.7444336611098055,\n",
       " 0.7537915309677913,\n",
       " 0.7608905690465698,\n",
       " 0.743142909312679,\n",
       " 0.7470151001671137,\n",
       " 0.7546520106535608]"
      ]
     },
     "execution_count": 35,
     "metadata": {},
     "output_type": "execute_result"
    }
   ],
   "source": [
    "temp_input"
   ]
  },
  {
   "cell_type": "code",
   "execution_count": 36,
   "id": "1749728a",
   "metadata": {},
   "outputs": [
    {
     "name": "stdout",
     "output_type": "stream",
     "text": [
      "0 day input [0.74744537 0.76594598 0.76766694 0.75497468 0.7745509  0.79531027\n",
      " 0.79133048 0.74626222 0.77057111 0.7925137  0.79993541 0.7878885\n",
      " 0.76981817 0.77121645 0.76540817 0.77315261 0.77175426 0.77035597\n",
      " 0.79143808 0.79154562 0.79133048 0.80477568 0.80230178 0.79617075\n",
      " 0.78186508 0.77831556 0.76325694 0.75701838 0.74862852 0.75045708\n",
      " 0.75981495 0.7585242  0.75594276 0.76648378 0.75873934 0.7426051\n",
      " 0.72561039 0.70807786 0.67344302 0.68731843 0.70743245 0.70130143\n",
      " 0.68968479 0.69409486 0.70883074 0.70689465 0.68903945 0.69183603\n",
      " 0.681295   0.6973217  0.74776804 0.75916961 0.74636976 0.74475633\n",
      " 0.74798318 0.75293099 0.7380875  0.72163059 0.72679354 0.7380875\n",
      " 0.76766694 0.7609981  0.81811334 0.81391841 0.83209634 0.82037211\n",
      " 0.81639232 0.81779067 0.81036889 0.79627835 0.80628157 0.79907493\n",
      " 0.81865115 0.8083252  0.80724958 0.81499403 0.80950841 0.80585129\n",
      " 0.81252012 0.79853712 0.78337096 0.79143808 0.77971384 0.7586318\n",
      " 0.76454769 0.77594919 0.76400988 0.78025165 0.80628157 0.80456054\n",
      " 0.78928685 0.79713883 0.76820474 0.75583516 0.74443366 0.75379153\n",
      " 0.76089057 0.74314291 0.7470151  0.75465201]\n",
      "0 day output [[0.75720775]]\n",
      "1 day input [0.76594598 0.76766694 0.75497468 0.7745509  0.79531027 0.79133048\n",
      " 0.74626222 0.77057111 0.7925137  0.79993541 0.7878885  0.76981817\n",
      " 0.77121645 0.76540817 0.77315261 0.77175426 0.77035597 0.79143808\n",
      " 0.79154562 0.79133048 0.80477568 0.80230178 0.79617075 0.78186508\n",
      " 0.77831556 0.76325694 0.75701838 0.74862852 0.75045708 0.75981495\n",
      " 0.7585242  0.75594276 0.76648378 0.75873934 0.7426051  0.72561039\n",
      " 0.70807786 0.67344302 0.68731843 0.70743245 0.70130143 0.68968479\n",
      " 0.69409486 0.70883074 0.70689465 0.68903945 0.69183603 0.681295\n",
      " 0.6973217  0.74776804 0.75916961 0.74636976 0.74475633 0.74798318\n",
      " 0.75293099 0.7380875  0.72163059 0.72679354 0.7380875  0.76766694\n",
      " 0.7609981  0.81811334 0.81391841 0.83209634 0.82037211 0.81639232\n",
      " 0.81779067 0.81036889 0.79627835 0.80628157 0.79907493 0.81865115\n",
      " 0.8083252  0.80724958 0.81499403 0.80950841 0.80585129 0.81252012\n",
      " 0.79853712 0.78337096 0.79143808 0.77971384 0.7586318  0.76454769\n",
      " 0.77594919 0.76400988 0.78025165 0.80628157 0.80456054 0.78928685\n",
      " 0.79713883 0.76820474 0.75583516 0.74443366 0.75379153 0.76089057\n",
      " 0.74314291 0.7470151  0.75465201 0.75720775]\n",
      "1 day output [[0.7529764]]\n",
      "2 day input [0.76766694 0.75497468 0.7745509  0.79531027 0.79133048 0.74626222\n",
      " 0.77057111 0.7925137  0.79993541 0.7878885  0.76981817 0.77121645\n",
      " 0.76540817 0.77315261 0.77175426 0.77035597 0.79143808 0.79154562\n",
      " 0.79133048 0.80477568 0.80230178 0.79617075 0.78186508 0.77831556\n",
      " 0.76325694 0.75701838 0.74862852 0.75045708 0.75981495 0.7585242\n",
      " 0.75594276 0.76648378 0.75873934 0.7426051  0.72561039 0.70807786\n",
      " 0.67344302 0.68731843 0.70743245 0.70130143 0.68968479 0.69409486\n",
      " 0.70883074 0.70689465 0.68903945 0.69183603 0.681295   0.6973217\n",
      " 0.74776804 0.75916961 0.74636976 0.74475633 0.74798318 0.75293099\n",
      " 0.7380875  0.72163059 0.72679354 0.7380875  0.76766694 0.7609981\n",
      " 0.81811334 0.81391841 0.83209634 0.82037211 0.81639232 0.81779067\n",
      " 0.81036889 0.79627835 0.80628157 0.79907493 0.81865115 0.8083252\n",
      " 0.80724958 0.81499403 0.80950841 0.80585129 0.81252012 0.79853712\n",
      " 0.78337096 0.79143808 0.77971384 0.7586318  0.76454769 0.77594919\n",
      " 0.76400988 0.78025165 0.80628157 0.80456054 0.78928685 0.79713883\n",
      " 0.76820474 0.75583516 0.74443366 0.75379153 0.76089057 0.74314291\n",
      " 0.7470151  0.75465201 0.75720775 0.75297642]\n",
      "2 day output [[0.7496558]]\n",
      "3 day input [0.75497468 0.7745509  0.79531027 0.79133048 0.74626222 0.77057111\n",
      " 0.7925137  0.79993541 0.7878885  0.76981817 0.77121645 0.76540817\n",
      " 0.77315261 0.77175426 0.77035597 0.79143808 0.79154562 0.79133048\n",
      " 0.80477568 0.80230178 0.79617075 0.78186508 0.77831556 0.76325694\n",
      " 0.75701838 0.74862852 0.75045708 0.75981495 0.7585242  0.75594276\n",
      " 0.76648378 0.75873934 0.7426051  0.72561039 0.70807786 0.67344302\n",
      " 0.68731843 0.70743245 0.70130143 0.68968479 0.69409486 0.70883074\n",
      " 0.70689465 0.68903945 0.69183603 0.681295   0.6973217  0.74776804\n",
      " 0.75916961 0.74636976 0.74475633 0.74798318 0.75293099 0.7380875\n",
      " 0.72163059 0.72679354 0.7380875  0.76766694 0.7609981  0.81811334\n",
      " 0.81391841 0.83209634 0.82037211 0.81639232 0.81779067 0.81036889\n",
      " 0.79627835 0.80628157 0.79907493 0.81865115 0.8083252  0.80724958\n",
      " 0.81499403 0.80950841 0.80585129 0.81252012 0.79853712 0.78337096\n",
      " 0.79143808 0.77971384 0.7586318  0.76454769 0.77594919 0.76400988\n",
      " 0.78025165 0.80628157 0.80456054 0.78928685 0.79713883 0.76820474\n",
      " 0.75583516 0.74443366 0.75379153 0.76089057 0.74314291 0.7470151\n",
      " 0.75465201 0.75720775 0.75297642 0.74965578]\n",
      "3 day output [[0.7471903]]\n",
      "4 day input [0.7745509  0.79531027 0.79133048 0.74626222 0.77057111 0.7925137\n",
      " 0.79993541 0.7878885  0.76981817 0.77121645 0.76540817 0.77315261\n",
      " 0.77175426 0.77035597 0.79143808 0.79154562 0.79133048 0.80477568\n",
      " 0.80230178 0.79617075 0.78186508 0.77831556 0.76325694 0.75701838\n",
      " 0.74862852 0.75045708 0.75981495 0.7585242  0.75594276 0.76648378\n",
      " 0.75873934 0.7426051  0.72561039 0.70807786 0.67344302 0.68731843\n",
      " 0.70743245 0.70130143 0.68968479 0.69409486 0.70883074 0.70689465\n",
      " 0.68903945 0.69183603 0.681295   0.6973217  0.74776804 0.75916961\n",
      " 0.74636976 0.74475633 0.74798318 0.75293099 0.7380875  0.72163059\n",
      " 0.72679354 0.7380875  0.76766694 0.7609981  0.81811334 0.81391841\n",
      " 0.83209634 0.82037211 0.81639232 0.81779067 0.81036889 0.79627835\n",
      " 0.80628157 0.79907493 0.81865115 0.8083252  0.80724958 0.81499403\n",
      " 0.80950841 0.80585129 0.81252012 0.79853712 0.78337096 0.79143808\n",
      " 0.77971384 0.7586318  0.76454769 0.77594919 0.76400988 0.78025165\n",
      " 0.80628157 0.80456054 0.78928685 0.79713883 0.76820474 0.75583516\n",
      " 0.74443366 0.75379153 0.76089057 0.74314291 0.7470151  0.75465201\n",
      " 0.75720775 0.75297642 0.74965578 0.7471903 ]\n",
      "4 day output [[0.74542916]]\n",
      "5 day input [0.79531027 0.79133048 0.74626222 0.77057111 0.7925137  0.79993541\n",
      " 0.7878885  0.76981817 0.77121645 0.76540817 0.77315261 0.77175426\n",
      " 0.77035597 0.79143808 0.79154562 0.79133048 0.80477568 0.80230178\n",
      " 0.79617075 0.78186508 0.77831556 0.76325694 0.75701838 0.74862852\n",
      " 0.75045708 0.75981495 0.7585242  0.75594276 0.76648378 0.75873934\n",
      " 0.7426051  0.72561039 0.70807786 0.67344302 0.68731843 0.70743245\n",
      " 0.70130143 0.68968479 0.69409486 0.70883074 0.70689465 0.68903945\n",
      " 0.69183603 0.681295   0.6973217  0.74776804 0.75916961 0.74636976\n",
      " 0.74475633 0.74798318 0.75293099 0.7380875  0.72163059 0.72679354\n",
      " 0.7380875  0.76766694 0.7609981  0.81811334 0.81391841 0.83209634\n",
      " 0.82037211 0.81639232 0.81779067 0.81036889 0.79627835 0.80628157\n",
      " 0.79907493 0.81865115 0.8083252  0.80724958 0.81499403 0.80950841\n",
      " 0.80585129 0.81252012 0.79853712 0.78337096 0.79143808 0.77971384\n",
      " 0.7586318  0.76454769 0.77594919 0.76400988 0.78025165 0.80628157\n",
      " 0.80456054 0.78928685 0.79713883 0.76820474 0.75583516 0.74443366\n",
      " 0.75379153 0.76089057 0.74314291 0.7470151  0.75465201 0.75720775\n",
      " 0.75297642 0.74965578 0.7471903  0.74542916]\n",
      "5 day output [[0.7441993]]\n",
      "6 day input [0.79133048 0.74626222 0.77057111 0.7925137  0.79993541 0.7878885\n",
      " 0.76981817 0.77121645 0.76540817 0.77315261 0.77175426 0.77035597\n",
      " 0.79143808 0.79154562 0.79133048 0.80477568 0.80230178 0.79617075\n",
      " 0.78186508 0.77831556 0.76325694 0.75701838 0.74862852 0.75045708\n",
      " 0.75981495 0.7585242  0.75594276 0.76648378 0.75873934 0.7426051\n",
      " 0.72561039 0.70807786 0.67344302 0.68731843 0.70743245 0.70130143\n",
      " 0.68968479 0.69409486 0.70883074 0.70689465 0.68903945 0.69183603\n",
      " 0.681295   0.6973217  0.74776804 0.75916961 0.74636976 0.74475633\n",
      " 0.74798318 0.75293099 0.7380875  0.72163059 0.72679354 0.7380875\n",
      " 0.76766694 0.7609981  0.81811334 0.81391841 0.83209634 0.82037211\n",
      " 0.81639232 0.81779067 0.81036889 0.79627835 0.80628157 0.79907493\n",
      " 0.81865115 0.8083252  0.80724958 0.81499403 0.80950841 0.80585129\n",
      " 0.81252012 0.79853712 0.78337096 0.79143808 0.77971384 0.7586318\n",
      " 0.76454769 0.77594919 0.76400988 0.78025165 0.80628157 0.80456054\n",
      " 0.78928685 0.79713883 0.76820474 0.75583516 0.74443366 0.75379153\n",
      " 0.76089057 0.74314291 0.7470151  0.75465201 0.75720775 0.75297642\n",
      " 0.74965578 0.7471903  0.74542916 0.74419928]\n",
      "6 day output [[0.74334437]]\n",
      "7 day input [0.74626222 0.77057111 0.7925137  0.79993541 0.7878885  0.76981817\n",
      " 0.77121645 0.76540817 0.77315261 0.77175426 0.77035597 0.79143808\n",
      " 0.79154562 0.79133048 0.80477568 0.80230178 0.79617075 0.78186508\n",
      " 0.77831556 0.76325694 0.75701838 0.74862852 0.75045708 0.75981495\n",
      " 0.7585242  0.75594276 0.76648378 0.75873934 0.7426051  0.72561039\n",
      " 0.70807786 0.67344302 0.68731843 0.70743245 0.70130143 0.68968479\n",
      " 0.69409486 0.70883074 0.70689465 0.68903945 0.69183603 0.681295\n",
      " 0.6973217  0.74776804 0.75916961 0.74636976 0.74475633 0.74798318\n",
      " 0.75293099 0.7380875  0.72163059 0.72679354 0.7380875  0.76766694\n",
      " 0.7609981  0.81811334 0.81391841 0.83209634 0.82037211 0.81639232\n",
      " 0.81779067 0.81036889 0.79627835 0.80628157 0.79907493 0.81865115\n",
      " 0.8083252  0.80724958 0.81499403 0.80950841 0.80585129 0.81252012\n",
      " 0.79853712 0.78337096 0.79143808 0.77971384 0.7586318  0.76454769\n",
      " 0.77594919 0.76400988 0.78025165 0.80628157 0.80456054 0.78928685\n",
      " 0.79713883 0.76820474 0.75583516 0.74443366 0.75379153 0.76089057\n",
      " 0.74314291 0.7470151  0.75465201 0.75720775 0.75297642 0.74965578\n",
      " 0.7471903  0.74542916 0.74419928 0.74334437]\n"
     ]
    },
    {
     "name": "stdout",
     "output_type": "stream",
     "text": [
      "7 day output [[0.7427422]]\n",
      "8 day input [0.77057111 0.7925137  0.79993541 0.7878885  0.76981817 0.77121645\n",
      " 0.76540817 0.77315261 0.77175426 0.77035597 0.79143808 0.79154562\n",
      " 0.79133048 0.80477568 0.80230178 0.79617075 0.78186508 0.77831556\n",
      " 0.76325694 0.75701838 0.74862852 0.75045708 0.75981495 0.7585242\n",
      " 0.75594276 0.76648378 0.75873934 0.7426051  0.72561039 0.70807786\n",
      " 0.67344302 0.68731843 0.70743245 0.70130143 0.68968479 0.69409486\n",
      " 0.70883074 0.70689465 0.68903945 0.69183603 0.681295   0.6973217\n",
      " 0.74776804 0.75916961 0.74636976 0.74475633 0.74798318 0.75293099\n",
      " 0.7380875  0.72163059 0.72679354 0.7380875  0.76766694 0.7609981\n",
      " 0.81811334 0.81391841 0.83209634 0.82037211 0.81639232 0.81779067\n",
      " 0.81036889 0.79627835 0.80628157 0.79907493 0.81865115 0.8083252\n",
      " 0.80724958 0.81499403 0.80950841 0.80585129 0.81252012 0.79853712\n",
      " 0.78337096 0.79143808 0.77971384 0.7586318  0.76454769 0.77594919\n",
      " 0.76400988 0.78025165 0.80628157 0.80456054 0.78928685 0.79713883\n",
      " 0.76820474 0.75583516 0.74443366 0.75379153 0.76089057 0.74314291\n",
      " 0.7470151  0.75465201 0.75720775 0.75297642 0.74965578 0.7471903\n",
      " 0.74542916 0.74419928 0.74334437 0.74274218]\n",
      "8 day output [[0.742306]]\n",
      "9 day input [0.7925137  0.79993541 0.7878885  0.76981817 0.77121645 0.76540817\n",
      " 0.77315261 0.77175426 0.77035597 0.79143808 0.79154562 0.79133048\n",
      " 0.80477568 0.80230178 0.79617075 0.78186508 0.77831556 0.76325694\n",
      " 0.75701838 0.74862852 0.75045708 0.75981495 0.7585242  0.75594276\n",
      " 0.76648378 0.75873934 0.7426051  0.72561039 0.70807786 0.67344302\n",
      " 0.68731843 0.70743245 0.70130143 0.68968479 0.69409486 0.70883074\n",
      " 0.70689465 0.68903945 0.69183603 0.681295   0.6973217  0.74776804\n",
      " 0.75916961 0.74636976 0.74475633 0.74798318 0.75293099 0.7380875\n",
      " 0.72163059 0.72679354 0.7380875  0.76766694 0.7609981  0.81811334\n",
      " 0.81391841 0.83209634 0.82037211 0.81639232 0.81779067 0.81036889\n",
      " 0.79627835 0.80628157 0.79907493 0.81865115 0.8083252  0.80724958\n",
      " 0.81499403 0.80950841 0.80585129 0.81252012 0.79853712 0.78337096\n",
      " 0.79143808 0.77971384 0.7586318  0.76454769 0.77594919 0.76400988\n",
      " 0.78025165 0.80628157 0.80456054 0.78928685 0.79713883 0.76820474\n",
      " 0.75583516 0.74443366 0.75379153 0.76089057 0.74314291 0.7470151\n",
      " 0.75465201 0.75720775 0.75297642 0.74965578 0.7471903  0.74542916\n",
      " 0.74419928 0.74334437 0.74274218 0.74230599]\n",
      "9 day output [[0.7419802]]\n",
      "10 day input [0.79993541 0.7878885  0.76981817 0.77121645 0.76540817 0.77315261\n",
      " 0.77175426 0.77035597 0.79143808 0.79154562 0.79133048 0.80477568\n",
      " 0.80230178 0.79617075 0.78186508 0.77831556 0.76325694 0.75701838\n",
      " 0.74862852 0.75045708 0.75981495 0.7585242  0.75594276 0.76648378\n",
      " 0.75873934 0.7426051  0.72561039 0.70807786 0.67344302 0.68731843\n",
      " 0.70743245 0.70130143 0.68968479 0.69409486 0.70883074 0.70689465\n",
      " 0.68903945 0.69183603 0.681295   0.6973217  0.74776804 0.75916961\n",
      " 0.74636976 0.74475633 0.74798318 0.75293099 0.7380875  0.72163059\n",
      " 0.72679354 0.7380875  0.76766694 0.7609981  0.81811334 0.81391841\n",
      " 0.83209634 0.82037211 0.81639232 0.81779067 0.81036889 0.79627835\n",
      " 0.80628157 0.79907493 0.81865115 0.8083252  0.80724958 0.81499403\n",
      " 0.80950841 0.80585129 0.81252012 0.79853712 0.78337096 0.79143808\n",
      " 0.77971384 0.7586318  0.76454769 0.77594919 0.76400988 0.78025165\n",
      " 0.80628157 0.80456054 0.78928685 0.79713883 0.76820474 0.75583516\n",
      " 0.74443366 0.75379153 0.76089057 0.74314291 0.7470151  0.75465201\n",
      " 0.75720775 0.75297642 0.74965578 0.7471903  0.74542916 0.74419928\n",
      " 0.74334437 0.74274218 0.74230599 0.7419802 ]\n",
      "10 day output [[0.7417317]]\n",
      "11 day input [0.7878885  0.76981817 0.77121645 0.76540817 0.77315261 0.77175426\n",
      " 0.77035597 0.79143808 0.79154562 0.79133048 0.80477568 0.80230178\n",
      " 0.79617075 0.78186508 0.77831556 0.76325694 0.75701838 0.74862852\n",
      " 0.75045708 0.75981495 0.7585242  0.75594276 0.76648378 0.75873934\n",
      " 0.7426051  0.72561039 0.70807786 0.67344302 0.68731843 0.70743245\n",
      " 0.70130143 0.68968479 0.69409486 0.70883074 0.70689465 0.68903945\n",
      " 0.69183603 0.681295   0.6973217  0.74776804 0.75916961 0.74636976\n",
      " 0.74475633 0.74798318 0.75293099 0.7380875  0.72163059 0.72679354\n",
      " 0.7380875  0.76766694 0.7609981  0.81811334 0.81391841 0.83209634\n",
      " 0.82037211 0.81639232 0.81779067 0.81036889 0.79627835 0.80628157\n",
      " 0.79907493 0.81865115 0.8083252  0.80724958 0.81499403 0.80950841\n",
      " 0.80585129 0.81252012 0.79853712 0.78337096 0.79143808 0.77971384\n",
      " 0.7586318  0.76454769 0.77594919 0.76400988 0.78025165 0.80628157\n",
      " 0.80456054 0.78928685 0.79713883 0.76820474 0.75583516 0.74443366\n",
      " 0.75379153 0.76089057 0.74314291 0.7470151  0.75465201 0.75720775\n",
      " 0.75297642 0.74965578 0.7471903  0.74542916 0.74419928 0.74334437\n",
      " 0.74274218 0.74230599 0.7419802  0.7417317 ]\n",
      "11 day output [[0.74154294]]\n",
      "12 day input [0.76981817 0.77121645 0.76540817 0.77315261 0.77175426 0.77035597\n",
      " 0.79143808 0.79154562 0.79133048 0.80477568 0.80230178 0.79617075\n",
      " 0.78186508 0.77831556 0.76325694 0.75701838 0.74862852 0.75045708\n",
      " 0.75981495 0.7585242  0.75594276 0.76648378 0.75873934 0.7426051\n",
      " 0.72561039 0.70807786 0.67344302 0.68731843 0.70743245 0.70130143\n",
      " 0.68968479 0.69409486 0.70883074 0.70689465 0.68903945 0.69183603\n",
      " 0.681295   0.6973217  0.74776804 0.75916961 0.74636976 0.74475633\n",
      " 0.74798318 0.75293099 0.7380875  0.72163059 0.72679354 0.7380875\n",
      " 0.76766694 0.7609981  0.81811334 0.81391841 0.83209634 0.82037211\n",
      " 0.81639232 0.81779067 0.81036889 0.79627835 0.80628157 0.79907493\n",
      " 0.81865115 0.8083252  0.80724958 0.81499403 0.80950841 0.80585129\n",
      " 0.81252012 0.79853712 0.78337096 0.79143808 0.77971384 0.7586318\n",
      " 0.76454769 0.77594919 0.76400988 0.78025165 0.80628157 0.80456054\n",
      " 0.78928685 0.79713883 0.76820474 0.75583516 0.74443366 0.75379153\n",
      " 0.76089057 0.74314291 0.7470151  0.75465201 0.75720775 0.75297642\n",
      " 0.74965578 0.7471903  0.74542916 0.74419928 0.74334437 0.74274218\n",
      " 0.74230599 0.7419802  0.7417317  0.74154294]\n",
      "12 day output [[0.74140424]]\n",
      "13 day input [0.77121645 0.76540817 0.77315261 0.77175426 0.77035597 0.79143808\n",
      " 0.79154562 0.79133048 0.80477568 0.80230178 0.79617075 0.78186508\n",
      " 0.77831556 0.76325694 0.75701838 0.74862852 0.75045708 0.75981495\n",
      " 0.7585242  0.75594276 0.76648378 0.75873934 0.7426051  0.72561039\n",
      " 0.70807786 0.67344302 0.68731843 0.70743245 0.70130143 0.68968479\n",
      " 0.69409486 0.70883074 0.70689465 0.68903945 0.69183603 0.681295\n",
      " 0.6973217  0.74776804 0.75916961 0.74636976 0.74475633 0.74798318\n",
      " 0.75293099 0.7380875  0.72163059 0.72679354 0.7380875  0.76766694\n",
      " 0.7609981  0.81811334 0.81391841 0.83209634 0.82037211 0.81639232\n",
      " 0.81779067 0.81036889 0.79627835 0.80628157 0.79907493 0.81865115\n",
      " 0.8083252  0.80724958 0.81499403 0.80950841 0.80585129 0.81252012\n",
      " 0.79853712 0.78337096 0.79143808 0.77971384 0.7586318  0.76454769\n",
      " 0.77594919 0.76400988 0.78025165 0.80628157 0.80456054 0.78928685\n",
      " 0.79713883 0.76820474 0.75583516 0.74443366 0.75379153 0.76089057\n",
      " 0.74314291 0.7470151  0.75465201 0.75720775 0.75297642 0.74965578\n",
      " 0.7471903  0.74542916 0.74419928 0.74334437 0.74274218 0.74230599\n",
      " 0.7419802  0.7417317  0.74154294 0.74140424]\n",
      "13 day output [[0.74131066]]\n",
      "14 day input [0.76540817 0.77315261 0.77175426 0.77035597 0.79143808 0.79154562\n",
      " 0.79133048 0.80477568 0.80230178 0.79617075 0.78186508 0.77831556\n",
      " 0.76325694 0.75701838 0.74862852 0.75045708 0.75981495 0.7585242\n",
      " 0.75594276 0.76648378 0.75873934 0.7426051  0.72561039 0.70807786\n",
      " 0.67344302 0.68731843 0.70743245 0.70130143 0.68968479 0.69409486\n",
      " 0.70883074 0.70689465 0.68903945 0.69183603 0.681295   0.6973217\n",
      " 0.74776804 0.75916961 0.74636976 0.74475633 0.74798318 0.75293099\n",
      " 0.7380875  0.72163059 0.72679354 0.7380875  0.76766694 0.7609981\n",
      " 0.81811334 0.81391841 0.83209634 0.82037211 0.81639232 0.81779067\n",
      " 0.81036889 0.79627835 0.80628157 0.79907493 0.81865115 0.8083252\n",
      " 0.80724958 0.81499403 0.80950841 0.80585129 0.81252012 0.79853712\n",
      " 0.78337096 0.79143808 0.77971384 0.7586318  0.76454769 0.77594919\n",
      " 0.76400988 0.78025165 0.80628157 0.80456054 0.78928685 0.79713883\n",
      " 0.76820474 0.75583516 0.74443366 0.75379153 0.76089057 0.74314291\n",
      " 0.7470151  0.75465201 0.75720775 0.75297642 0.74965578 0.7471903\n",
      " 0.74542916 0.74419928 0.74334437 0.74274218 0.74230599 0.7419802\n",
      " 0.7417317  0.74154294 0.74140424 0.74131066]\n",
      "14 day output [[0.74125826]]\n",
      "15 day input [0.77315261 0.77175426 0.77035597 0.79143808 0.79154562 0.79133048\n",
      " 0.80477568 0.80230178 0.79617075 0.78186508 0.77831556 0.76325694\n",
      " 0.75701838 0.74862852 0.75045708 0.75981495 0.7585242  0.75594276\n",
      " 0.76648378 0.75873934 0.7426051  0.72561039 0.70807786 0.67344302\n",
      " 0.68731843 0.70743245 0.70130143 0.68968479 0.69409486 0.70883074\n",
      " 0.70689465 0.68903945 0.69183603 0.681295   0.6973217  0.74776804\n",
      " 0.75916961 0.74636976 0.74475633 0.74798318 0.75293099 0.7380875\n",
      " 0.72163059 0.72679354 0.7380875  0.76766694 0.7609981  0.81811334\n",
      " 0.81391841 0.83209634 0.82037211 0.81639232 0.81779067 0.81036889\n",
      " 0.79627835 0.80628157 0.79907493 0.81865115 0.8083252  0.80724958\n",
      " 0.81499403 0.80950841 0.80585129 0.81252012 0.79853712 0.78337096\n",
      " 0.79143808 0.77971384 0.7586318  0.76454769 0.77594919 0.76400988\n",
      " 0.78025165 0.80628157 0.80456054 0.78928685 0.79713883 0.76820474\n",
      " 0.75583516 0.74443366 0.75379153 0.76089057 0.74314291 0.7470151\n",
      " 0.75465201 0.75720775 0.75297642 0.74965578 0.7471903  0.74542916\n",
      " 0.74419928 0.74334437 0.74274218 0.74230599 0.7419802  0.7417317\n"
     ]
    },
    {
     "name": "stdout",
     "output_type": "stream",
     "text": [
      " 0.74154294 0.74140424 0.74131066 0.74125826]\n",
      "15 day output [[0.7412434]]\n",
      "16 day input [0.77175426 0.77035597 0.79143808 0.79154562 0.79133048 0.80477568\n",
      " 0.80230178 0.79617075 0.78186508 0.77831556 0.76325694 0.75701838\n",
      " 0.74862852 0.75045708 0.75981495 0.7585242  0.75594276 0.76648378\n",
      " 0.75873934 0.7426051  0.72561039 0.70807786 0.67344302 0.68731843\n",
      " 0.70743245 0.70130143 0.68968479 0.69409486 0.70883074 0.70689465\n",
      " 0.68903945 0.69183603 0.681295   0.6973217  0.74776804 0.75916961\n",
      " 0.74636976 0.74475633 0.74798318 0.75293099 0.7380875  0.72163059\n",
      " 0.72679354 0.7380875  0.76766694 0.7609981  0.81811334 0.81391841\n",
      " 0.83209634 0.82037211 0.81639232 0.81779067 0.81036889 0.79627835\n",
      " 0.80628157 0.79907493 0.81865115 0.8083252  0.80724958 0.81499403\n",
      " 0.80950841 0.80585129 0.81252012 0.79853712 0.78337096 0.79143808\n",
      " 0.77971384 0.7586318  0.76454769 0.77594919 0.76400988 0.78025165\n",
      " 0.80628157 0.80456054 0.78928685 0.79713883 0.76820474 0.75583516\n",
      " 0.74443366 0.75379153 0.76089057 0.74314291 0.7470151  0.75465201\n",
      " 0.75720775 0.75297642 0.74965578 0.7471903  0.74542916 0.74419928\n",
      " 0.74334437 0.74274218 0.74230599 0.7419802  0.7417317  0.74154294\n",
      " 0.74140424 0.74131066 0.74125826 0.74124342]\n",
      "16 day output [[0.74126136]]\n",
      "17 day input [0.77035597 0.79143808 0.79154562 0.79133048 0.80477568 0.80230178\n",
      " 0.79617075 0.78186508 0.77831556 0.76325694 0.75701838 0.74862852\n",
      " 0.75045708 0.75981495 0.7585242  0.75594276 0.76648378 0.75873934\n",
      " 0.7426051  0.72561039 0.70807786 0.67344302 0.68731843 0.70743245\n",
      " 0.70130143 0.68968479 0.69409486 0.70883074 0.70689465 0.68903945\n",
      " 0.69183603 0.681295   0.6973217  0.74776804 0.75916961 0.74636976\n",
      " 0.74475633 0.74798318 0.75293099 0.7380875  0.72163059 0.72679354\n",
      " 0.7380875  0.76766694 0.7609981  0.81811334 0.81391841 0.83209634\n",
      " 0.82037211 0.81639232 0.81779067 0.81036889 0.79627835 0.80628157\n",
      " 0.79907493 0.81865115 0.8083252  0.80724958 0.81499403 0.80950841\n",
      " 0.80585129 0.81252012 0.79853712 0.78337096 0.79143808 0.77971384\n",
      " 0.7586318  0.76454769 0.77594919 0.76400988 0.78025165 0.80628157\n",
      " 0.80456054 0.78928685 0.79713883 0.76820474 0.75583516 0.74443366\n",
      " 0.75379153 0.76089057 0.74314291 0.7470151  0.75465201 0.75720775\n",
      " 0.75297642 0.74965578 0.7471903  0.74542916 0.74419928 0.74334437\n",
      " 0.74274218 0.74230599 0.7419802  0.7417317  0.74154294 0.74140424\n",
      " 0.74131066 0.74125826 0.74124342 0.74126136]\n",
      "17 day output [[0.74130684]]\n",
      "18 day input [0.79143808 0.79154562 0.79133048 0.80477568 0.80230178 0.79617075\n",
      " 0.78186508 0.77831556 0.76325694 0.75701838 0.74862852 0.75045708\n",
      " 0.75981495 0.7585242  0.75594276 0.76648378 0.75873934 0.7426051\n",
      " 0.72561039 0.70807786 0.67344302 0.68731843 0.70743245 0.70130143\n",
      " 0.68968479 0.69409486 0.70883074 0.70689465 0.68903945 0.69183603\n",
      " 0.681295   0.6973217  0.74776804 0.75916961 0.74636976 0.74475633\n",
      " 0.74798318 0.75293099 0.7380875  0.72163059 0.72679354 0.7380875\n",
      " 0.76766694 0.7609981  0.81811334 0.81391841 0.83209634 0.82037211\n",
      " 0.81639232 0.81779067 0.81036889 0.79627835 0.80628157 0.79907493\n",
      " 0.81865115 0.8083252  0.80724958 0.81499403 0.80950841 0.80585129\n",
      " 0.81252012 0.79853712 0.78337096 0.79143808 0.77971384 0.7586318\n",
      " 0.76454769 0.77594919 0.76400988 0.78025165 0.80628157 0.80456054\n",
      " 0.78928685 0.79713883 0.76820474 0.75583516 0.74443366 0.75379153\n",
      " 0.76089057 0.74314291 0.7470151  0.75465201 0.75720775 0.75297642\n",
      " 0.74965578 0.7471903  0.74542916 0.74419928 0.74334437 0.74274218\n",
      " 0.74230599 0.7419802  0.7417317  0.74154294 0.74140424 0.74131066\n",
      " 0.74125826 0.74124342 0.74126136 0.74130684]\n",
      "18 day output [[0.7413739]]\n",
      "19 day input [0.79154562 0.79133048 0.80477568 0.80230178 0.79617075 0.78186508\n",
      " 0.77831556 0.76325694 0.75701838 0.74862852 0.75045708 0.75981495\n",
      " 0.7585242  0.75594276 0.76648378 0.75873934 0.7426051  0.72561039\n",
      " 0.70807786 0.67344302 0.68731843 0.70743245 0.70130143 0.68968479\n",
      " 0.69409486 0.70883074 0.70689465 0.68903945 0.69183603 0.681295\n",
      " 0.6973217  0.74776804 0.75916961 0.74636976 0.74475633 0.74798318\n",
      " 0.75293099 0.7380875  0.72163059 0.72679354 0.7380875  0.76766694\n",
      " 0.7609981  0.81811334 0.81391841 0.83209634 0.82037211 0.81639232\n",
      " 0.81779067 0.81036889 0.79627835 0.80628157 0.79907493 0.81865115\n",
      " 0.8083252  0.80724958 0.81499403 0.80950841 0.80585129 0.81252012\n",
      " 0.79853712 0.78337096 0.79143808 0.77971384 0.7586318  0.76454769\n",
      " 0.77594919 0.76400988 0.78025165 0.80628157 0.80456054 0.78928685\n",
      " 0.79713883 0.76820474 0.75583516 0.74443366 0.75379153 0.76089057\n",
      " 0.74314291 0.7470151  0.75465201 0.75720775 0.75297642 0.74965578\n",
      " 0.7471903  0.74542916 0.74419928 0.74334437 0.74274218 0.74230599\n",
      " 0.7419802  0.7417317  0.74154294 0.74140424 0.74131066 0.74125826\n",
      " 0.74124342 0.74126136 0.74130684 0.7413739 ]\n",
      "19 day output [[0.74145705]]\n",
      "20 day input [0.79133048 0.80477568 0.80230178 0.79617075 0.78186508 0.77831556\n",
      " 0.76325694 0.75701838 0.74862852 0.75045708 0.75981495 0.7585242\n",
      " 0.75594276 0.76648378 0.75873934 0.7426051  0.72561039 0.70807786\n",
      " 0.67344302 0.68731843 0.70743245 0.70130143 0.68968479 0.69409486\n",
      " 0.70883074 0.70689465 0.68903945 0.69183603 0.681295   0.6973217\n",
      " 0.74776804 0.75916961 0.74636976 0.74475633 0.74798318 0.75293099\n",
      " 0.7380875  0.72163059 0.72679354 0.7380875  0.76766694 0.7609981\n",
      " 0.81811334 0.81391841 0.83209634 0.82037211 0.81639232 0.81779067\n",
      " 0.81036889 0.79627835 0.80628157 0.79907493 0.81865115 0.8083252\n",
      " 0.80724958 0.81499403 0.80950841 0.80585129 0.81252012 0.79853712\n",
      " 0.78337096 0.79143808 0.77971384 0.7586318  0.76454769 0.77594919\n",
      " 0.76400988 0.78025165 0.80628157 0.80456054 0.78928685 0.79713883\n",
      " 0.76820474 0.75583516 0.74443366 0.75379153 0.76089057 0.74314291\n",
      " 0.7470151  0.75465201 0.75720775 0.75297642 0.74965578 0.7471903\n",
      " 0.74542916 0.74419928 0.74334437 0.74274218 0.74230599 0.7419802\n",
      " 0.7417317  0.74154294 0.74140424 0.74131066 0.74125826 0.74124342\n",
      " 0.74126136 0.74130684 0.7413739  0.74145705]\n",
      "20 day output [[0.7415498]]\n",
      "21 day input [0.80477568 0.80230178 0.79617075 0.78186508 0.77831556 0.76325694\n",
      " 0.75701838 0.74862852 0.75045708 0.75981495 0.7585242  0.75594276\n",
      " 0.76648378 0.75873934 0.7426051  0.72561039 0.70807786 0.67344302\n",
      " 0.68731843 0.70743245 0.70130143 0.68968479 0.69409486 0.70883074\n",
      " 0.70689465 0.68903945 0.69183603 0.681295   0.6973217  0.74776804\n",
      " 0.75916961 0.74636976 0.74475633 0.74798318 0.75293099 0.7380875\n",
      " 0.72163059 0.72679354 0.7380875  0.76766694 0.7609981  0.81811334\n",
      " 0.81391841 0.83209634 0.82037211 0.81639232 0.81779067 0.81036889\n",
      " 0.79627835 0.80628157 0.79907493 0.81865115 0.8083252  0.80724958\n",
      " 0.81499403 0.80950841 0.80585129 0.81252012 0.79853712 0.78337096\n",
      " 0.79143808 0.77971384 0.7586318  0.76454769 0.77594919 0.76400988\n",
      " 0.78025165 0.80628157 0.80456054 0.78928685 0.79713883 0.76820474\n",
      " 0.75583516 0.74443366 0.75379153 0.76089057 0.74314291 0.7470151\n",
      " 0.75465201 0.75720775 0.75297642 0.74965578 0.7471903  0.74542916\n",
      " 0.74419928 0.74334437 0.74274218 0.74230599 0.7419802  0.7417317\n",
      " 0.74154294 0.74140424 0.74131066 0.74125826 0.74124342 0.74126136\n",
      " 0.74130684 0.7413739  0.74145705 0.74154979]\n",
      "21 day output [[0.74164724]]\n",
      "22 day input [0.80230178 0.79617075 0.78186508 0.77831556 0.76325694 0.75701838\n",
      " 0.74862852 0.75045708 0.75981495 0.7585242  0.75594276 0.76648378\n",
      " 0.75873934 0.7426051  0.72561039 0.70807786 0.67344302 0.68731843\n",
      " 0.70743245 0.70130143 0.68968479 0.69409486 0.70883074 0.70689465\n",
      " 0.68903945 0.69183603 0.681295   0.6973217  0.74776804 0.75916961\n",
      " 0.74636976 0.74475633 0.74798318 0.75293099 0.7380875  0.72163059\n",
      " 0.72679354 0.7380875  0.76766694 0.7609981  0.81811334 0.81391841\n",
      " 0.83209634 0.82037211 0.81639232 0.81779067 0.81036889 0.79627835\n",
      " 0.80628157 0.79907493 0.81865115 0.8083252  0.80724958 0.81499403\n",
      " 0.80950841 0.80585129 0.81252012 0.79853712 0.78337096 0.79143808\n",
      " 0.77971384 0.7586318  0.76454769 0.77594919 0.76400988 0.78025165\n",
      " 0.80628157 0.80456054 0.78928685 0.79713883 0.76820474 0.75583516\n",
      " 0.74443366 0.75379153 0.76089057 0.74314291 0.7470151  0.75465201\n",
      " 0.75720775 0.75297642 0.74965578 0.7471903  0.74542916 0.74419928\n",
      " 0.74334437 0.74274218 0.74230599 0.7419802  0.7417317  0.74154294\n",
      " 0.74140424 0.74131066 0.74125826 0.74124342 0.74126136 0.74130684\n",
      " 0.7413739  0.74145705 0.74154979 0.74164724]\n",
      "22 day output [[0.7417448]]\n",
      "23 day input [0.79617075 0.78186508 0.77831556 0.76325694 0.75701838 0.74862852\n",
      " 0.75045708 0.75981495 0.7585242  0.75594276 0.76648378 0.75873934\n",
      " 0.7426051  0.72561039 0.70807786 0.67344302 0.68731843 0.70743245\n",
      " 0.70130143 0.68968479 0.69409486 0.70883074 0.70689465 0.68903945\n",
      " 0.69183603 0.681295   0.6973217  0.74776804 0.75916961 0.74636976\n",
      " 0.74475633 0.74798318 0.75293099 0.7380875  0.72163059 0.72679354\n",
      " 0.7380875  0.76766694 0.7609981  0.81811334 0.81391841 0.83209634\n",
      " 0.82037211 0.81639232 0.81779067 0.81036889 0.79627835 0.80628157\n",
      " 0.79907493 0.81865115 0.8083252  0.80724958 0.81499403 0.80950841\n",
      " 0.80585129 0.81252012 0.79853712 0.78337096 0.79143808 0.77971384\n",
      " 0.7586318  0.76454769 0.77594919 0.76400988 0.78025165 0.80628157\n",
      " 0.80456054 0.78928685 0.79713883 0.76820474 0.75583516 0.74443366\n",
      " 0.75379153 0.76089057 0.74314291 0.7470151  0.75465201 0.75720775\n",
      " 0.75297642 0.74965578 0.7471903  0.74542916 0.74419928 0.74334437\n",
      " 0.74274218 0.74230599 0.7419802  0.7417317  0.74154294 0.74140424\n",
      " 0.74131066 0.74125826 0.74124342 0.74126136 0.74130684 0.7413739\n",
      " 0.74145705 0.74154979 0.74164724 0.74174482]\n",
      "23 day output [[0.7418378]]\n",
      "24 day input [0.78186508 0.77831556 0.76325694 0.75701838 0.74862852 0.75045708\n",
      " 0.75981495 0.7585242  0.75594276 0.76648378 0.75873934 0.7426051\n",
      " 0.72561039 0.70807786 0.67344302 0.68731843 0.70743245 0.70130143\n",
      " 0.68968479 0.69409486 0.70883074 0.70689465 0.68903945 0.69183603\n",
      " 0.681295   0.6973217  0.74776804 0.75916961 0.74636976 0.74475633\n",
      " 0.74798318 0.75293099 0.7380875  0.72163059 0.72679354 0.7380875\n",
      " 0.76766694 0.7609981  0.81811334 0.81391841 0.83209634 0.82037211\n",
      " 0.81639232 0.81779067 0.81036889 0.79627835 0.80628157 0.79907493\n",
      " 0.81865115 0.8083252  0.80724958 0.81499403 0.80950841 0.80585129\n",
      " 0.81252012 0.79853712 0.78337096 0.79143808 0.77971384 0.7586318\n",
      " 0.76454769 0.77594919 0.76400988 0.78025165 0.80628157 0.80456054\n",
      " 0.78928685 0.79713883 0.76820474 0.75583516 0.74443366 0.75379153\n",
      " 0.76089057 0.74314291 0.7470151  0.75465201 0.75720775 0.75297642\n",
      " 0.74965578 0.7471903  0.74542916 0.74419928 0.74334437 0.74274218\n",
      " 0.74230599 0.7419802  0.7417317  0.74154294 0.74140424 0.74131066\n",
      " 0.74125826 0.74124342 0.74126136 0.74130684 0.7413739  0.74145705\n",
      " 0.74154979 0.74164724 0.74174482 0.7418378 ]\n",
      "24 day output [[0.741923]]\n",
      "25 day input [0.77831556 0.76325694 0.75701838 0.74862852 0.75045708 0.75981495\n",
      " 0.7585242  0.75594276 0.76648378 0.75873934 0.7426051  0.72561039\n",
      " 0.70807786 0.67344302 0.68731843 0.70743245 0.70130143 0.68968479\n",
      " 0.69409486 0.70883074 0.70689465 0.68903945 0.69183603 0.681295\n",
      " 0.6973217  0.74776804 0.75916961 0.74636976 0.74475633 0.74798318\n",
      " 0.75293099 0.7380875  0.72163059 0.72679354 0.7380875  0.76766694\n",
      " 0.7609981  0.81811334 0.81391841 0.83209634 0.82037211 0.81639232\n",
      " 0.81779067 0.81036889 0.79627835 0.80628157 0.79907493 0.81865115\n",
      " 0.8083252  0.80724958 0.81499403 0.80950841 0.80585129 0.81252012\n",
      " 0.79853712 0.78337096 0.79143808 0.77971384 0.7586318  0.76454769\n",
      " 0.77594919 0.76400988 0.78025165 0.80628157 0.80456054 0.78928685\n",
      " 0.79713883 0.76820474 0.75583516 0.74443366 0.75379153 0.76089057\n",
      " 0.74314291 0.7470151  0.75465201 0.75720775 0.75297642 0.74965578\n",
      " 0.7471903  0.74542916 0.74419928 0.74334437 0.74274218 0.74230599\n",
      " 0.7419802  0.7417317  0.74154294 0.74140424 0.74131066 0.74125826\n",
      " 0.74124342 0.74126136 0.74130684 0.7413739  0.74145705 0.74154979\n"
     ]
    },
    {
     "name": "stdout",
     "output_type": "stream",
     "text": [
      " 0.74164724 0.74174482 0.7418378  0.74192297]\n",
      "25 day output [[0.741998]]\n",
      "26 day input [0.76325694 0.75701838 0.74862852 0.75045708 0.75981495 0.7585242\n",
      " 0.75594276 0.76648378 0.75873934 0.7426051  0.72561039 0.70807786\n",
      " 0.67344302 0.68731843 0.70743245 0.70130143 0.68968479 0.69409486\n",
      " 0.70883074 0.70689465 0.68903945 0.69183603 0.681295   0.6973217\n",
      " 0.74776804 0.75916961 0.74636976 0.74475633 0.74798318 0.75293099\n",
      " 0.7380875  0.72163059 0.72679354 0.7380875  0.76766694 0.7609981\n",
      " 0.81811334 0.81391841 0.83209634 0.82037211 0.81639232 0.81779067\n",
      " 0.81036889 0.79627835 0.80628157 0.79907493 0.81865115 0.8083252\n",
      " 0.80724958 0.81499403 0.80950841 0.80585129 0.81252012 0.79853712\n",
      " 0.78337096 0.79143808 0.77971384 0.7586318  0.76454769 0.77594919\n",
      " 0.76400988 0.78025165 0.80628157 0.80456054 0.78928685 0.79713883\n",
      " 0.76820474 0.75583516 0.74443366 0.75379153 0.76089057 0.74314291\n",
      " 0.7470151  0.75465201 0.75720775 0.75297642 0.74965578 0.7471903\n",
      " 0.74542916 0.74419928 0.74334437 0.74274218 0.74230599 0.7419802\n",
      " 0.7417317  0.74154294 0.74140424 0.74131066 0.74125826 0.74124342\n",
      " 0.74126136 0.74130684 0.7413739  0.74145705 0.74154979 0.74164724\n",
      " 0.74174482 0.7418378  0.74192297 0.74199802]\n",
      "26 day output [[0.7420601]]\n",
      "27 day input [0.75701838 0.74862852 0.75045708 0.75981495 0.7585242  0.75594276\n",
      " 0.76648378 0.75873934 0.7426051  0.72561039 0.70807786 0.67344302\n",
      " 0.68731843 0.70743245 0.70130143 0.68968479 0.69409486 0.70883074\n",
      " 0.70689465 0.68903945 0.69183603 0.681295   0.6973217  0.74776804\n",
      " 0.75916961 0.74636976 0.74475633 0.74798318 0.75293099 0.7380875\n",
      " 0.72163059 0.72679354 0.7380875  0.76766694 0.7609981  0.81811334\n",
      " 0.81391841 0.83209634 0.82037211 0.81639232 0.81779067 0.81036889\n",
      " 0.79627835 0.80628157 0.79907493 0.81865115 0.8083252  0.80724958\n",
      " 0.81499403 0.80950841 0.80585129 0.81252012 0.79853712 0.78337096\n",
      " 0.79143808 0.77971384 0.7586318  0.76454769 0.77594919 0.76400988\n",
      " 0.78025165 0.80628157 0.80456054 0.78928685 0.79713883 0.76820474\n",
      " 0.75583516 0.74443366 0.75379153 0.76089057 0.74314291 0.7470151\n",
      " 0.75465201 0.75720775 0.75297642 0.74965578 0.7471903  0.74542916\n",
      " 0.74419928 0.74334437 0.74274218 0.74230599 0.7419802  0.7417317\n",
      " 0.74154294 0.74140424 0.74131066 0.74125826 0.74124342 0.74126136\n",
      " 0.74130684 0.7413739  0.74145705 0.74154979 0.74164724 0.74174482\n",
      " 0.7418378  0.74192297 0.74199802 0.74206012]\n",
      "27 day output [[0.7421081]]\n",
      "28 day input [0.74862852 0.75045708 0.75981495 0.7585242  0.75594276 0.76648378\n",
      " 0.75873934 0.7426051  0.72561039 0.70807786 0.67344302 0.68731843\n",
      " 0.70743245 0.70130143 0.68968479 0.69409486 0.70883074 0.70689465\n",
      " 0.68903945 0.69183603 0.681295   0.6973217  0.74776804 0.75916961\n",
      " 0.74636976 0.74475633 0.74798318 0.75293099 0.7380875  0.72163059\n",
      " 0.72679354 0.7380875  0.76766694 0.7609981  0.81811334 0.81391841\n",
      " 0.83209634 0.82037211 0.81639232 0.81779067 0.81036889 0.79627835\n",
      " 0.80628157 0.79907493 0.81865115 0.8083252  0.80724958 0.81499403\n",
      " 0.80950841 0.80585129 0.81252012 0.79853712 0.78337096 0.79143808\n",
      " 0.77971384 0.7586318  0.76454769 0.77594919 0.76400988 0.78025165\n",
      " 0.80628157 0.80456054 0.78928685 0.79713883 0.76820474 0.75583516\n",
      " 0.74443366 0.75379153 0.76089057 0.74314291 0.7470151  0.75465201\n",
      " 0.75720775 0.75297642 0.74965578 0.7471903  0.74542916 0.74419928\n",
      " 0.74334437 0.74274218 0.74230599 0.7419802  0.7417317  0.74154294\n",
      " 0.74140424 0.74131066 0.74125826 0.74124342 0.74126136 0.74130684\n",
      " 0.7413739  0.74145705 0.74154979 0.74164724 0.74174482 0.7418378\n",
      " 0.74192297 0.74199802 0.74206012 0.74210811]\n",
      "28 day output [[0.7421405]]\n",
      "29 day input [0.75045708 0.75981495 0.7585242  0.75594276 0.76648378 0.75873934\n",
      " 0.7426051  0.72561039 0.70807786 0.67344302 0.68731843 0.70743245\n",
      " 0.70130143 0.68968479 0.69409486 0.70883074 0.70689465 0.68903945\n",
      " 0.69183603 0.681295   0.6973217  0.74776804 0.75916961 0.74636976\n",
      " 0.74475633 0.74798318 0.75293099 0.7380875  0.72163059 0.72679354\n",
      " 0.7380875  0.76766694 0.7609981  0.81811334 0.81391841 0.83209634\n",
      " 0.82037211 0.81639232 0.81779067 0.81036889 0.79627835 0.80628157\n",
      " 0.79907493 0.81865115 0.8083252  0.80724958 0.81499403 0.80950841\n",
      " 0.80585129 0.81252012 0.79853712 0.78337096 0.79143808 0.77971384\n",
      " 0.7586318  0.76454769 0.77594919 0.76400988 0.78025165 0.80628157\n",
      " 0.80456054 0.78928685 0.79713883 0.76820474 0.75583516 0.74443366\n",
      " 0.75379153 0.76089057 0.74314291 0.7470151  0.75465201 0.75720775\n",
      " 0.75297642 0.74965578 0.7471903  0.74542916 0.74419928 0.74334437\n",
      " 0.74274218 0.74230599 0.7419802  0.7417317  0.74154294 0.74140424\n",
      " 0.74131066 0.74125826 0.74124342 0.74126136 0.74130684 0.7413739\n",
      " 0.74145705 0.74154979 0.74164724 0.74174482 0.7418378  0.74192297\n",
      " 0.74199802 0.74206012 0.74210811 0.74214047]\n",
      "29 day output [[0.7421568]]\n",
      "[[0.7572077512741089], [0.7529764175415039], [0.7496557831764221], [0.7471902966499329], [0.7454291582107544], [0.744199275970459], [0.7433443665504456], [0.7427421808242798], [0.7423059940338135], [0.7419801950454712], [0.7417317032814026], [0.7415429353713989], [0.7414042353630066], [0.7413106560707092], [0.7412582635879517], [0.7412434220314026], [0.74126136302948], [0.7413068413734436], [0.7413738965988159], [0.7414570450782776], [0.7415497899055481], [0.7416472434997559], [0.7417448163032532], [0.7418377995491028], [0.7419229745864868], [0.741998016834259], [0.742060124874115], [0.7421081066131592], [0.7421404719352722], [0.7421568036079407]]\n"
     ]
    }
   ],
   "source": [
    "# demonstrate prediction for next 10 days\n",
    "from numpy import array\n",
    "\n",
    "lst_output=[]\n",
    "n_steps=100\n",
    "i=0\n",
    "while(i<30):\n",
    "    \n",
    "    if(len(temp_input)>100):\n",
    "        #print(temp_input)\n",
    "        x_input=np.array(temp_input[1:])\n",
    "        print(\"{} day input {}\".format(i,x_input))\n",
    "        x_input=x_input.reshape(1,-1)\n",
    "        x_input = x_input.reshape((1, n_steps, 1))\n",
    "        #print(x_input)\n",
    "        yhat = model.predict(x_input, verbose=0)\n",
    "        print(\"{} day output {}\".format(i,yhat))\n",
    "        temp_input.extend(yhat[0].tolist())\n",
    "        temp_input=temp_input[1:]\n",
    "        #print(temp_input)\n",
    "        lst_output.extend(yhat.tolist())\n",
    "        i=i+1\n",
    "    else:\n",
    "        x_input = x_input.reshape((1, n_steps,1))\n",
    "        yhat = model.predict(x_input, verbose=0)\n",
    "        print(yhat[0])\n",
    "        temp_input.extend(yhat[0].tolist())\n",
    "        print(len(temp_input))\n",
    "        lst_output.extend(yhat.tolist())\n",
    "        i=i+1\n",
    "    \n",
    "\n",
    "print(lst_output)"
   ]
  },
  {
   "cell_type": "code",
   "execution_count": 37,
   "id": "20723c26",
   "metadata": {},
   "outputs": [],
   "source": [
    "day_new=np.arange(1,101)\n",
    "day_pred=np.arange(101,131)"
   ]
  },
  {
   "cell_type": "code",
   "execution_count": 38,
   "id": "1a05deca",
   "metadata": {},
   "outputs": [],
   "source": [
    "import matplotlib.pyplot as plt"
   ]
  },
  {
   "cell_type": "code",
   "execution_count": 39,
   "id": "d37c1ff8",
   "metadata": {},
   "outputs": [
    {
     "data": {
      "text/plain": [
       "1046"
      ]
     },
     "execution_count": 39,
     "metadata": {},
     "output_type": "execute_result"
    }
   ],
   "source": [
    "len(df1)"
   ]
  },
  {
   "cell_type": "code",
   "execution_count": 44,
   "id": "8a9f7ef8",
   "metadata": {},
   "outputs": [
    {
     "data": {
      "image/png": "[encoded data removed]",
      "text/plain": [
       "<Figure size 432x288 with 1 Axes>"
      ]
     },
     "metadata": {
      "needs_background": "light"
     },
     "output_type": "display_data"
    }
   ],
   "source": [
    "plt.plot(day_new,scaler.inverse_transform(df1[946:]))\n",
    "plt.plot(day_pred,scaler.inverse_transform(lst_output));"
   ]
  },
  {
   "cell_type": "code",
   "execution_count": 45,
   "id": "611721d9",
   "metadata": {},
   "outputs": [
    {
     "data": {
      "text/plain": [
       "[<matplotlib.lines.Line2D at 0x18a79f1cd30>]"
      ]
     },
     "execution_count": 45,
     "metadata": {},
     "output_type": "execute_result"
    },
    {
     "data": {
      "image/png": "[encoded data removed]",
      "text/plain": [
       "<Figure size 432x288 with 1 Axes>"
      ]
     },
     "metadata": {
      "needs_background": "light"
     },
     "output_type": "display_data"
    }
   ],
   "source": [
    "df3=df1.tolist()\n",
    "df3.extend(lst_output)\n",
    "plt.plot(df3[1000:])"
   ]
  },
  {
   "cell_type": "code",
   "execution_count": 46,
   "id": "5dbfc66f",
   "metadata": {},
   "outputs": [],
   "source": [
    "df3=scaler.inverse_transform(df3).tolist()"
   ]
  },
  {
   "cell_type": "code",
   "execution_count": 47,
   "id": "8734af7e",
   "metadata": {},
   "outputs": [
    {
     "data": {
      "text/plain": [
       "[<matplotlib.lines.Line2D at 0x18a79ef3580>]"
      ]
     },
     "execution_count": 47,
     "metadata": {},
     "output_type": "execute_result"
    },
    {
     "data": {
      "image/png": "[encoded data removed]",
      "text/plain": [
       "<Figure size 432x288 with 1 Axes>"
      ]
     },
     "metadata": {
      "needs_background": "light"
     },
     "output_type": "display_data"
    }
   ],
   "source": [
    "plt.plot(df3)"
   ]
  },
  {
   "cell_type": "code",
   "execution_count": 48,
   "id": "ac4155bd",
   "metadata": {},
   "outputs": [
    {
     "data": {
      "text/plain": [
       "<matplotlib.legend.Legend at 0x18a70252f70>"
      ]
     },
     "execution_count": 48,
     "metadata": {},
     "output_type": "execute_result"
    },
    {
     "data": {
      "image/png": "[encoded data removed]",
      "text/plain": [
       "<Figure size 432x288 with 1 Axes>"
      ]
     },
     "metadata": {
      "needs_background": "light"
     },
     "output_type": "display_data"
    }
   ],
   "source": [
    "# Plotting the loss iteration\n",
    "plt.plot(history.history['loss'], label = 'training loss')\n",
    "plt.plot(history.history['val_loss'], label ='validation loss')\n",
    "plt.legend()"
   ]
  },
  {
   "cell_type": "code",
   "execution_count": null,
   "id": "cd385a6c",
   "metadata": {},
   "outputs": [],
   "source": []
  }
 ],
 "metadata": {
  "kernelspec": {
   "display_name": "Python 3",
   "language": "python",
   "name": "python3"
  },
  "language_info": {
   "codemirror_mode": {
    "name": "ipython",
    "version": 3
   },
   "file_extension": ".py",
   "mimetype": "text/x-python",
   "name": "python",
   "nbconvert_exporter": "python",
   "pygments_lexer": "ipython3",
   "version": "3.8.8"
  }
 },
 "nbformat": 4,
 "nbformat_minor": 5
}
